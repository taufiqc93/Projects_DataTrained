{
 "cells": [
  {
   "cell_type": "markdown",
   "id": "65326feb",
   "metadata": {},
   "source": [
    "# SALARY PROJECT"
   ]
  },
  {
   "cell_type": "code",
   "execution_count": 1,
   "id": "07d1163a",
   "metadata": {},
   "outputs": [],
   "source": [
    "#Importing the libraries\n",
    "import pandas as pd\n",
    "import numpy as np\n",
    "import matplotlib.pyplot as plt\n",
    "import seaborn as sns\n",
    "import pickle\n",
    "from sklearn.linear_model import LinearRegression\n",
    "from sklearn.model_selection import train_test_split\n",
    "from sklearn.preprocessing import StandardScaler\n",
    "from sklearn.linear_model import LinearRegression\n",
    "from sklearn.model_selection import train_test_split\n",
    "from statsmodels.stats.outliers_influence import variance_inflation_factor\n",
    "from sklearn.metrics import accuracy_score, confusion_matrix,roc_curve,roc_auc_score\n",
    "from scipy.stats import zscore\n",
    "from sklearn.preprocessing import StandardScaler\n",
    "import statsmodels.formula.api as smf\n",
    "from sklearn.metrics import mean_squared_error,mean_absolute_error\n",
    "from sklearn.metrics import r2_score\n",
    "from sklearn.model_selection  import cross_val_score \n",
    "from sklearn.linear_model import Ridge,Lasso,RidgeCV,LassoCV\n",
    "import warnings\n",
    "warnings.filterwarnings('ignore')\n",
    "from sklearn.preprocessing import PowerTransformer\n",
    "from sklearn.model_selection import GridSearchCV\n",
    "from sklearn.neighbors import KNeighborsRegressor\n",
    "from sklearn.ensemble import RandomForestRegressor\n",
    "from sklearn.ensemble import GradientBoostingRegressor\n",
    "from sklearn.preprocessing import OrdinalEncoder\n",
    "from scipy.stats import skew\n",
    "from sklearn.tree import DecisionTreeRegressor"
   ]
  },
  {
   "cell_type": "code",
   "execution_count": 2,
   "id": "bd8233dc",
   "metadata": {},
   "outputs": [
    {
     "data": {
      "text/html": [
       "<div>\n",
       "<style scoped>\n",
       "    .dataframe tbody tr th:only-of-type {\n",
       "        vertical-align: middle;\n",
       "    }\n",
       "\n",
       "    .dataframe tbody tr th {\n",
       "        vertical-align: top;\n",
       "    }\n",
       "\n",
       "    .dataframe thead th {\n",
       "        text-align: right;\n",
       "    }\n",
       "</style>\n",
       "<table border=\"1\" class=\"dataframe\">\n",
       "  <thead>\n",
       "    <tr style=\"text-align: right;\">\n",
       "      <th></th>\n",
       "      <th>rank</th>\n",
       "      <th>discipline</th>\n",
       "      <th>yrs.since.phd</th>\n",
       "      <th>yrs.service</th>\n",
       "      <th>sex</th>\n",
       "      <th>salary</th>\n",
       "    </tr>\n",
       "  </thead>\n",
       "  <tbody>\n",
       "    <tr>\n",
       "      <th>0</th>\n",
       "      <td>Prof</td>\n",
       "      <td>B</td>\n",
       "      <td>19</td>\n",
       "      <td>18</td>\n",
       "      <td>Male</td>\n",
       "      <td>139750</td>\n",
       "    </tr>\n",
       "    <tr>\n",
       "      <th>1</th>\n",
       "      <td>Prof</td>\n",
       "      <td>B</td>\n",
       "      <td>20</td>\n",
       "      <td>16</td>\n",
       "      <td>Male</td>\n",
       "      <td>173200</td>\n",
       "    </tr>\n",
       "    <tr>\n",
       "      <th>2</th>\n",
       "      <td>AsstProf</td>\n",
       "      <td>B</td>\n",
       "      <td>4</td>\n",
       "      <td>3</td>\n",
       "      <td>Male</td>\n",
       "      <td>79750</td>\n",
       "    </tr>\n",
       "    <tr>\n",
       "      <th>3</th>\n",
       "      <td>Prof</td>\n",
       "      <td>B</td>\n",
       "      <td>45</td>\n",
       "      <td>39</td>\n",
       "      <td>Male</td>\n",
       "      <td>115000</td>\n",
       "    </tr>\n",
       "    <tr>\n",
       "      <th>4</th>\n",
       "      <td>Prof</td>\n",
       "      <td>B</td>\n",
       "      <td>40</td>\n",
       "      <td>41</td>\n",
       "      <td>Male</td>\n",
       "      <td>141500</td>\n",
       "    </tr>\n",
       "    <tr>\n",
       "      <th>...</th>\n",
       "      <td>...</td>\n",
       "      <td>...</td>\n",
       "      <td>...</td>\n",
       "      <td>...</td>\n",
       "      <td>...</td>\n",
       "      <td>...</td>\n",
       "    </tr>\n",
       "    <tr>\n",
       "      <th>392</th>\n",
       "      <td>Prof</td>\n",
       "      <td>A</td>\n",
       "      <td>33</td>\n",
       "      <td>30</td>\n",
       "      <td>Male</td>\n",
       "      <td>103106</td>\n",
       "    </tr>\n",
       "    <tr>\n",
       "      <th>393</th>\n",
       "      <td>Prof</td>\n",
       "      <td>A</td>\n",
       "      <td>31</td>\n",
       "      <td>19</td>\n",
       "      <td>Male</td>\n",
       "      <td>150564</td>\n",
       "    </tr>\n",
       "    <tr>\n",
       "      <th>394</th>\n",
       "      <td>Prof</td>\n",
       "      <td>A</td>\n",
       "      <td>42</td>\n",
       "      <td>25</td>\n",
       "      <td>Male</td>\n",
       "      <td>101738</td>\n",
       "    </tr>\n",
       "    <tr>\n",
       "      <th>395</th>\n",
       "      <td>Prof</td>\n",
       "      <td>A</td>\n",
       "      <td>25</td>\n",
       "      <td>15</td>\n",
       "      <td>Male</td>\n",
       "      <td>95329</td>\n",
       "    </tr>\n",
       "    <tr>\n",
       "      <th>396</th>\n",
       "      <td>AsstProf</td>\n",
       "      <td>A</td>\n",
       "      <td>8</td>\n",
       "      <td>4</td>\n",
       "      <td>Male</td>\n",
       "      <td>81035</td>\n",
       "    </tr>\n",
       "  </tbody>\n",
       "</table>\n",
       "<p>397 rows × 6 columns</p>\n",
       "</div>"
      ],
      "text/plain": [
       "         rank discipline  yrs.since.phd  yrs.service   sex  salary\n",
       "0        Prof          B             19           18  Male  139750\n",
       "1        Prof          B             20           16  Male  173200\n",
       "2    AsstProf          B              4            3  Male   79750\n",
       "3        Prof          B             45           39  Male  115000\n",
       "4        Prof          B             40           41  Male  141500\n",
       "..        ...        ...            ...          ...   ...     ...\n",
       "392      Prof          A             33           30  Male  103106\n",
       "393      Prof          A             31           19  Male  150564\n",
       "394      Prof          A             42           25  Male  101738\n",
       "395      Prof          A             25           15  Male   95329\n",
       "396  AsstProf          A              8            4  Male   81035\n",
       "\n",
       "[397 rows x 6 columns]"
      ]
     },
     "execution_count": 2,
     "metadata": {},
     "output_type": "execute_result"
    }
   ],
   "source": [
    "#Reading the Dataset\n",
    "df=pd.read_csv(r'https://raw.githubusercontent.com/dsrscientist/dataset3/main/Salaries.csv')\n",
    "df"
   ]
  },
  {
   "cell_type": "code",
   "execution_count": 3,
   "id": "5c7da6bf",
   "metadata": {},
   "outputs": [
    {
     "data": {
      "text/plain": [
       "Index(['rank', 'discipline', 'yrs.since.phd', 'yrs.service', 'sex', 'salary'], dtype='object')"
      ]
     },
     "execution_count": 3,
     "metadata": {},
     "output_type": "execute_result"
    }
   ],
   "source": [
    "df.columns"
   ]
  },
  {
   "cell_type": "code",
   "execution_count": 4,
   "id": "3bdd2e77",
   "metadata": {},
   "outputs": [
    {
     "data": {
      "text/plain": [
       "rank             0\n",
       "discipline       0\n",
       "yrs.since.phd    0\n",
       "yrs.service      0\n",
       "sex              0\n",
       "salary           0\n",
       "dtype: int64"
      ]
     },
     "execution_count": 4,
     "metadata": {},
     "output_type": "execute_result"
    }
   ],
   "source": [
    "df.isnull().sum() # No null values found"
   ]
  },
  {
   "cell_type": "code",
   "execution_count": 5,
   "id": "5f08aa24",
   "metadata": {},
   "outputs": [
    {
     "data": {
      "text/html": [
       "<div>\n",
       "<style scoped>\n",
       "    .dataframe tbody tr th:only-of-type {\n",
       "        vertical-align: middle;\n",
       "    }\n",
       "\n",
       "    .dataframe tbody tr th {\n",
       "        vertical-align: top;\n",
       "    }\n",
       "\n",
       "    .dataframe thead th {\n",
       "        text-align: right;\n",
       "    }\n",
       "</style>\n",
       "<table border=\"1\" class=\"dataframe\">\n",
       "  <thead>\n",
       "    <tr style=\"text-align: right;\">\n",
       "      <th></th>\n",
       "      <th>yrs.since.phd</th>\n",
       "      <th>yrs.service</th>\n",
       "      <th>salary</th>\n",
       "    </tr>\n",
       "  </thead>\n",
       "  <tbody>\n",
       "    <tr>\n",
       "      <th>count</th>\n",
       "      <td>397.000000</td>\n",
       "      <td>397.000000</td>\n",
       "      <td>397.000000</td>\n",
       "    </tr>\n",
       "    <tr>\n",
       "      <th>mean</th>\n",
       "      <td>22.314861</td>\n",
       "      <td>17.614610</td>\n",
       "      <td>113706.458438</td>\n",
       "    </tr>\n",
       "    <tr>\n",
       "      <th>std</th>\n",
       "      <td>12.887003</td>\n",
       "      <td>13.006024</td>\n",
       "      <td>30289.038695</td>\n",
       "    </tr>\n",
       "    <tr>\n",
       "      <th>min</th>\n",
       "      <td>1.000000</td>\n",
       "      <td>0.000000</td>\n",
       "      <td>57800.000000</td>\n",
       "    </tr>\n",
       "    <tr>\n",
       "      <th>25%</th>\n",
       "      <td>12.000000</td>\n",
       "      <td>7.000000</td>\n",
       "      <td>91000.000000</td>\n",
       "    </tr>\n",
       "    <tr>\n",
       "      <th>50%</th>\n",
       "      <td>21.000000</td>\n",
       "      <td>16.000000</td>\n",
       "      <td>107300.000000</td>\n",
       "    </tr>\n",
       "    <tr>\n",
       "      <th>75%</th>\n",
       "      <td>32.000000</td>\n",
       "      <td>27.000000</td>\n",
       "      <td>134185.000000</td>\n",
       "    </tr>\n",
       "    <tr>\n",
       "      <th>max</th>\n",
       "      <td>56.000000</td>\n",
       "      <td>60.000000</td>\n",
       "      <td>231545.000000</td>\n",
       "    </tr>\n",
       "  </tbody>\n",
       "</table>\n",
       "</div>"
      ],
      "text/plain": [
       "       yrs.since.phd  yrs.service         salary\n",
       "count     397.000000   397.000000     397.000000\n",
       "mean       22.314861    17.614610  113706.458438\n",
       "std        12.887003    13.006024   30289.038695\n",
       "min         1.000000     0.000000   57800.000000\n",
       "25%        12.000000     7.000000   91000.000000\n",
       "50%        21.000000    16.000000  107300.000000\n",
       "75%        32.000000    27.000000  134185.000000\n",
       "max        56.000000    60.000000  231545.000000"
      ]
     },
     "execution_count": 5,
     "metadata": {},
     "output_type": "execute_result"
    }
   ],
   "source": [
    "df.describe()"
   ]
  },
  {
   "cell_type": "code",
   "execution_count": 6,
   "id": "2eded261",
   "metadata": {},
   "outputs": [
    {
     "data": {
      "text/plain": [
       "array(['Prof', 'AsstProf', 'AssocProf'], dtype=object)"
      ]
     },
     "execution_count": 6,
     "metadata": {},
     "output_type": "execute_result"
    }
   ],
   "source": [
    "df['rank'].unique()\n"
   ]
  },
  {
   "cell_type": "code",
   "execution_count": 7,
   "id": "1e4affbc",
   "metadata": {},
   "outputs": [
    {
     "data": {
      "text/plain": [
       "array(['B', 'A'], dtype=object)"
      ]
     },
     "execution_count": 7,
     "metadata": {},
     "output_type": "execute_result"
    }
   ],
   "source": [
    "df['discipline'].unique()"
   ]
  },
  {
   "cell_type": "code",
   "execution_count": 8,
   "id": "8a237af7",
   "metadata": {},
   "outputs": [
    {
     "data": {
      "text/plain": [
       "array(['Male', 'Female'], dtype=object)"
      ]
     },
     "execution_count": 8,
     "metadata": {},
     "output_type": "execute_result"
    }
   ],
   "source": [
    "df['sex'].unique()\n",
    "# Features rank,discipline,sex are text data hence applying Ordinal Encoder to tranform into categorical data"
   ]
  },
  {
   "cell_type": "code",
   "execution_count": 9,
   "id": "00dd87e6",
   "metadata": {},
   "outputs": [],
   "source": [
    "ord_enc=OrdinalEncoder(categories=[[\"AsstProf\",\"AssocProf\",\"Prof\"],[\"A\",\"B\"],[\"Male\",\"Female\"]])\n",
    "df[[\"rank\",\"discipline\",\"sex\"]]=ord_enc.fit_transform(df[[\"rank\",\"discipline\",\"sex\"]])"
   ]
  },
  {
   "cell_type": "code",
   "execution_count": 10,
   "id": "aa89abf7",
   "metadata": {},
   "outputs": [
    {
     "data": {
      "text/html": [
       "<div>\n",
       "<style scoped>\n",
       "    .dataframe tbody tr th:only-of-type {\n",
       "        vertical-align: middle;\n",
       "    }\n",
       "\n",
       "    .dataframe tbody tr th {\n",
       "        vertical-align: top;\n",
       "    }\n",
       "\n",
       "    .dataframe thead th {\n",
       "        text-align: right;\n",
       "    }\n",
       "</style>\n",
       "<table border=\"1\" class=\"dataframe\">\n",
       "  <thead>\n",
       "    <tr style=\"text-align: right;\">\n",
       "      <th></th>\n",
       "      <th>rank</th>\n",
       "      <th>discipline</th>\n",
       "      <th>yrs.since.phd</th>\n",
       "      <th>yrs.service</th>\n",
       "      <th>sex</th>\n",
       "      <th>salary</th>\n",
       "    </tr>\n",
       "  </thead>\n",
       "  <tbody>\n",
       "    <tr>\n",
       "      <th>0</th>\n",
       "      <td>2.0</td>\n",
       "      <td>1.0</td>\n",
       "      <td>19</td>\n",
       "      <td>18</td>\n",
       "      <td>0.0</td>\n",
       "      <td>139750</td>\n",
       "    </tr>\n",
       "    <tr>\n",
       "      <th>1</th>\n",
       "      <td>2.0</td>\n",
       "      <td>1.0</td>\n",
       "      <td>20</td>\n",
       "      <td>16</td>\n",
       "      <td>0.0</td>\n",
       "      <td>173200</td>\n",
       "    </tr>\n",
       "    <tr>\n",
       "      <th>2</th>\n",
       "      <td>0.0</td>\n",
       "      <td>1.0</td>\n",
       "      <td>4</td>\n",
       "      <td>3</td>\n",
       "      <td>0.0</td>\n",
       "      <td>79750</td>\n",
       "    </tr>\n",
       "    <tr>\n",
       "      <th>3</th>\n",
       "      <td>2.0</td>\n",
       "      <td>1.0</td>\n",
       "      <td>45</td>\n",
       "      <td>39</td>\n",
       "      <td>0.0</td>\n",
       "      <td>115000</td>\n",
       "    </tr>\n",
       "    <tr>\n",
       "      <th>4</th>\n",
       "      <td>2.0</td>\n",
       "      <td>1.0</td>\n",
       "      <td>40</td>\n",
       "      <td>41</td>\n",
       "      <td>0.0</td>\n",
       "      <td>141500</td>\n",
       "    </tr>\n",
       "    <tr>\n",
       "      <th>...</th>\n",
       "      <td>...</td>\n",
       "      <td>...</td>\n",
       "      <td>...</td>\n",
       "      <td>...</td>\n",
       "      <td>...</td>\n",
       "      <td>...</td>\n",
       "    </tr>\n",
       "    <tr>\n",
       "      <th>392</th>\n",
       "      <td>2.0</td>\n",
       "      <td>0.0</td>\n",
       "      <td>33</td>\n",
       "      <td>30</td>\n",
       "      <td>0.0</td>\n",
       "      <td>103106</td>\n",
       "    </tr>\n",
       "    <tr>\n",
       "      <th>393</th>\n",
       "      <td>2.0</td>\n",
       "      <td>0.0</td>\n",
       "      <td>31</td>\n",
       "      <td>19</td>\n",
       "      <td>0.0</td>\n",
       "      <td>150564</td>\n",
       "    </tr>\n",
       "    <tr>\n",
       "      <th>394</th>\n",
       "      <td>2.0</td>\n",
       "      <td>0.0</td>\n",
       "      <td>42</td>\n",
       "      <td>25</td>\n",
       "      <td>0.0</td>\n",
       "      <td>101738</td>\n",
       "    </tr>\n",
       "    <tr>\n",
       "      <th>395</th>\n",
       "      <td>2.0</td>\n",
       "      <td>0.0</td>\n",
       "      <td>25</td>\n",
       "      <td>15</td>\n",
       "      <td>0.0</td>\n",
       "      <td>95329</td>\n",
       "    </tr>\n",
       "    <tr>\n",
       "      <th>396</th>\n",
       "      <td>0.0</td>\n",
       "      <td>0.0</td>\n",
       "      <td>8</td>\n",
       "      <td>4</td>\n",
       "      <td>0.0</td>\n",
       "      <td>81035</td>\n",
       "    </tr>\n",
       "  </tbody>\n",
       "</table>\n",
       "<p>397 rows × 6 columns</p>\n",
       "</div>"
      ],
      "text/plain": [
       "     rank  discipline  yrs.since.phd  yrs.service  sex  salary\n",
       "0     2.0         1.0             19           18  0.0  139750\n",
       "1     2.0         1.0             20           16  0.0  173200\n",
       "2     0.0         1.0              4            3  0.0   79750\n",
       "3     2.0         1.0             45           39  0.0  115000\n",
       "4     2.0         1.0             40           41  0.0  141500\n",
       "..    ...         ...            ...          ...  ...     ...\n",
       "392   2.0         0.0             33           30  0.0  103106\n",
       "393   2.0         0.0             31           19  0.0  150564\n",
       "394   2.0         0.0             42           25  0.0  101738\n",
       "395   2.0         0.0             25           15  0.0   95329\n",
       "396   0.0         0.0              8            4  0.0   81035\n",
       "\n",
       "[397 rows x 6 columns]"
      ]
     },
     "execution_count": 10,
     "metadata": {},
     "output_type": "execute_result"
    }
   ],
   "source": [
    "df"
   ]
  },
  {
   "cell_type": "markdown",
   "id": "1f3d85ed",
   "metadata": {},
   "source": [
    "# Visualization of dataset"
   ]
  },
  {
   "cell_type": "markdown",
   "id": "d20ff8ad",
   "metadata": {},
   "source": [
    "# COUNT PLOT"
   ]
  },
  {
   "cell_type": "code",
   "execution_count": 11,
   "id": "b2c01dcb",
   "metadata": {},
   "outputs": [
    {
     "data": {
      "text/plain": [
       "<AxesSubplot:xlabel='rank', ylabel='count'>"
      ]
     },
     "execution_count": 11,
     "metadata": {},
     "output_type": "execute_result"
    },
    {
     "data": {
      "image/png": "[encoded data removed]",
      "text/plain": [
       "<Figure size 432x288 with 1 Axes>"
      ]
     },
     "metadata": {
      "needs_background": "light"
     },
     "output_type": "display_data"
    }
   ],
   "source": [
    "sns.countplot(df[\"rank\"])\n",
    "#rank feature is imbalanced in nature"
   ]
  },
  {
   "cell_type": "code",
   "execution_count": 12,
   "id": "acb4ce03",
   "metadata": {},
   "outputs": [
    {
     "data": {
      "text/plain": [
       "<AxesSubplot:xlabel='discipline', ylabel='count'>"
      ]
     },
     "execution_count": 12,
     "metadata": {},
     "output_type": "execute_result"
    },
    {
     "data": {
      "image/png": "[encoded data removed]",
      "text/plain": [
       "<Figure size 432x288 with 1 Axes>"
      ]
     },
     "metadata": {
      "needs_background": "light"
     },
     "output_type": "display_data"
    }
   ],
   "source": [
    "sns.countplot(df[\"discipline\"])\n",
    "#discpline feature is balanced in nature"
   ]
  },
  {
   "cell_type": "code",
   "execution_count": 13,
   "id": "7ca36dc8",
   "metadata": {},
   "outputs": [
    {
     "data": {
      "text/plain": [
       "<AxesSubplot:xlabel='sex', ylabel='count'>"
      ]
     },
     "execution_count": 13,
     "metadata": {},
     "output_type": "execute_result"
    },
    {
     "data": {
      "image/png": "[encoded data removed]",
      "text/plain": [
       "<Figure size 432x288 with 1 Axes>"
      ]
     },
     "metadata": {
      "needs_background": "light"
     },
     "output_type": "display_data"
    }
   ],
   "source": [
    "sns.countplot(df[\"sex\"])\n",
    "#sex feature is highly imbalanced"
   ]
  },
  {
   "cell_type": "code",
   "execution_count": 14,
   "id": "a4af1b82",
   "metadata": {},
   "outputs": [],
   "source": [
    "#Features rank and sex are imbalanced in nature hence applying following techniques\n",
    "    #1. Check for Corelation and drop the column\n",
    "    #2. Check for skewness\n",
    "    #3. To apply ensemble techniques for modeling for optimized sampling of data"
   ]
  },
  {
   "cell_type": "markdown",
   "id": "ecbca6cd",
   "metadata": {},
   "source": [
    "# Pair plot"
   ]
  },
  {
   "cell_type": "code",
   "execution_count": 15,
   "id": "4ead4c2f",
   "metadata": {},
   "outputs": [
    {
     "data": {
      "text/plain": [
       "<seaborn.axisgrid.PairGrid at 0x21337525190>"
      ]
     },
     "execution_count": 15,
     "metadata": {},
     "output_type": "execute_result"
    },
    {
     "data": {
      "image/png": "[encoded data removed]",
      "text/plain": [
       "<Figure size 1080x1080 with 42 Axes>"
      ]
     },
     "metadata": {
      "needs_background": "light"
     },
     "output_type": "display_data"
    }
   ],
   "source": [
    "sns.pairplot(df)"
   ]
  },
  {
   "cell_type": "markdown",
   "id": "3b374057",
   "metadata": {},
   "source": [
    "# Scatter Plot"
   ]
  },
  {
   "cell_type": "code",
   "execution_count": 16,
   "id": "5075441e",
   "metadata": {},
   "outputs": [
    {
     "data": {
      "image/png": "[encoded data removed]",
      "text/plain": [
       "<Figure size 1440x2160 with 5 Axes>"
      ]
     },
     "metadata": {
      "needs_background": "light"
     },
     "output_type": "display_data"
    }
   ],
   "source": [
    "X=df.drop(columns='salary')\n",
    "Y=df[['salary']]\n",
    "plt.figure(figsize=(20,30))\n",
    "plotnumber=1\n",
    "\n",
    "for column in X:\n",
    "    if plotnumber<=10:\n",
    "        ax=plt.subplot(5,3,plotnumber)\n",
    "        plt.scatter(X[column],Y)\n",
    "        plt.xlabel(column,fontsize=20)\n",
    "        plt.ylabel('SALARY',fontsize=20)\n",
    "    plotnumber+=1\n",
    "plt.tight_layout()"
   ]
  },
  {
   "cell_type": "code",
   "execution_count": 17,
   "id": "46fcc62d",
   "metadata": {},
   "outputs": [
    {
     "data": {
      "text/plain": [
       "<seaborn.axisgrid.FacetGrid at 0x213399985b0>"
      ]
     },
     "execution_count": 17,
     "metadata": {},
     "output_type": "execute_result"
    },
    {
     "data": {
      "image/png": "[encoded data removed]",
      "text/plain": [
       "<Figure size 360x360 with 1 Axes>"
      ]
     },
     "metadata": {
      "needs_background": "light"
     },
     "output_type": "display_data"
    }
   ],
   "source": [
    "sns.catplot(x=\"rank\", y=\"salary\", data=df, jitter = True)"
   ]
  },
  {
   "cell_type": "code",
   "execution_count": 18,
   "id": "31ddc563",
   "metadata": {},
   "outputs": [
    {
     "data": {
      "text/plain": [
       "<seaborn.axisgrid.FacetGrid at 0x21339f5e670>"
      ]
     },
     "execution_count": 18,
     "metadata": {},
     "output_type": "execute_result"
    },
    {
     "data": {
      "image/png": "[encoded data removed]",
      "text/plain": [
       "<Figure size 360x360 with 1 Axes>"
      ]
     },
     "metadata": {
      "needs_background": "light"
     },
     "output_type": "display_data"
    }
   ],
   "source": [
    "sns.catplot(x=\"sex\", y=\"salary\", data=df, jitter = True)"
   ]
  },
  {
   "cell_type": "code",
   "execution_count": 19,
   "id": "51f8e0e3",
   "metadata": {},
   "outputs": [
    {
     "data": {
      "text/plain": [
       "<seaborn.axisgrid.FacetGrid at 0x21339f5e460>"
      ]
     },
     "execution_count": 19,
     "metadata": {},
     "output_type": "execute_result"
    },
    {
     "data": {
      "image/png": "[encoded data removed]",
      "text/plain": [
       "<Figure size 360x360 with 1 Axes>"
      ]
     },
     "metadata": {
      "needs_background": "light"
     },
     "output_type": "display_data"
    }
   ],
   "source": [
    "sns.catplot(x=\"discipline\", y=\"salary\", data=df, jitter = True)"
   ]
  },
  {
   "cell_type": "code",
   "execution_count": 20,
   "id": "f2e47c1b",
   "metadata": {},
   "outputs": [],
   "source": [
    "# yrs.since.phd and yrs.service feature is having positive trend"
   ]
  },
  {
   "cell_type": "markdown",
   "id": "b19a3238",
   "metadata": {},
   "source": [
    "# Box Plot"
   ]
  },
  {
   "cell_type": "code",
   "execution_count": 21,
   "id": "254bbb58",
   "metadata": {},
   "outputs": [
    {
     "data": {
      "text/plain": [
       "<AxesSubplot:>"
      ]
     },
     "execution_count": 21,
     "metadata": {},
     "output_type": "execute_result"
    },
    {
     "data": {
      "image/png": "[encoded data removed]",
      "text/plain": [
       "<Figure size 432x288 with 1 Axes>"
      ]
     },
     "metadata": {
      "needs_background": "light"
     },
     "output_type": "display_data"
    }
   ],
   "source": [
    "df[\"yrs.since.phd\"].plot(kind=\"box\")"
   ]
  },
  {
   "cell_type": "code",
   "execution_count": 22,
   "id": "422a9e00",
   "metadata": {},
   "outputs": [
    {
     "data": {
      "text/plain": [
       "<AxesSubplot:>"
      ]
     },
     "execution_count": 22,
     "metadata": {},
     "output_type": "execute_result"
    },
    {
     "data": {
      "image/png": "[encoded data removed]",
      "text/plain": [
       "<Figure size 432x288 with 1 Axes>"
      ]
     },
     "metadata": {
      "needs_background": "light"
     },
     "output_type": "display_data"
    }
   ],
   "source": [
    "df['yrs.service'].plot(kind=\"box\")  "
   ]
  },
  {
   "cell_type": "code",
   "execution_count": 23,
   "id": "3bd0f879",
   "metadata": {},
   "outputs": [],
   "source": [
    "#yrs.service has outlier and is right skewed"
   ]
  },
  {
   "cell_type": "markdown",
   "id": "760dcdb4",
   "metadata": {},
   "source": [
    "# Dist Plot"
   ]
  },
  {
   "cell_type": "code",
   "execution_count": 24,
   "id": "a72826d4",
   "metadata": {},
   "outputs": [
    {
     "name": "stdout",
     "output_type": "stream",
     "text": [
      "-1.1284741858358\n",
      "-0.1770116626350349\n",
      "0.29974153157458827\n",
      "0.6481088240680348\n",
      "2.6997084522172408\n",
      "0.7118657337591157\n"
     ]
    },
    {
     "data": {
      "image/png": "[encoded data removed]",
      "text/plain": [
       "<Figure size 432x288 with 1 Axes>"
      ]
     },
     "metadata": {
      "needs_background": "light"
     },
     "output_type": "display_data"
    },
    {
     "data": {
      "image/png": "[encoded data removed]",
      "text/plain": [
       "<Figure size 432x288 with 1 Axes>"
      ]
     },
     "metadata": {
      "needs_background": "light"
     },
     "output_type": "display_data"
    },
    {
     "data": {
      "image/png": "[encoded data removed]",
      "text/plain": [
       "<Figure size 432x288 with 1 Axes>"
      ]
     },
     "metadata": {
      "needs_background": "light"
     },
     "output_type": "display_data"
    },
    {
     "data": {
      "image/png": "[encoded data removed]",
      "text/plain": [
       "<Figure size 432x288 with 1 Axes>"
      ]
     },
     "metadata": {
      "needs_background": "light"
     },
     "output_type": "display_data"
    },
    {
     "data": {
      "image/png": "[encoded data removed]",
      "text/plain": [
       "<Figure size 432x288 with 1 Axes>"
      ]
     },
     "metadata": {
      "needs_background": "light"
     },
     "output_type": "display_data"
    },
    {
     "data": {
      "image/png": "[encoded data removed]",
      "text/plain": [
       "<Figure size 432x288 with 1 Axes>"
      ]
     },
     "metadata": {
      "needs_background": "light"
     },
     "output_type": "display_data"
    }
   ],
   "source": [
    "for col in df:\n",
    "    print(skew(df[col]))\n",
    "    plt.figure()\n",
    "    sns.distplot(df[col])\n",
    "    plt.show"
   ]
  },
  {
   "cell_type": "code",
   "execution_count": 25,
   "id": "bba13d34",
   "metadata": {},
   "outputs": [
    {
     "data": {
      "text/plain": [
       "rank            -1.132759\n",
       "discipline      -0.177684\n",
       "yrs.since.phd    0.300880\n",
       "yrs.service      0.650569\n",
       "sex              2.709958\n",
       "salary           0.714568\n",
       "dtype: float64"
      ]
     },
     "execution_count": 25,
     "metadata": {},
     "output_type": "execute_result"
    }
   ],
   "source": [
    "df.skew()"
   ]
  },
  {
   "cell_type": "code",
   "execution_count": 26,
   "id": "afde6317",
   "metadata": {},
   "outputs": [],
   "source": [
    "#yrs.service is slightly right skewed hence removing outlier using power tranformation"
   ]
  },
  {
   "cell_type": "code",
   "execution_count": 27,
   "id": "3e3a10fc",
   "metadata": {},
   "outputs": [],
   "source": [
    "df[\"yrs.service\"]=np.sqrt(df['yrs.service'])"
   ]
  },
  {
   "cell_type": "markdown",
   "id": "b87c62f4",
   "metadata": {},
   "source": [
    "# Rechecking for skewness and Outliers using Dist and Box plot"
   ]
  },
  {
   "cell_type": "code",
   "execution_count": 28,
   "id": "e208bc46",
   "metadata": {},
   "outputs": [
    {
     "data": {
      "text/plain": [
       "rank            -1.132759\n",
       "discipline      -0.177684\n",
       "yrs.since.phd    0.300880\n",
       "yrs.service     -0.160353\n",
       "sex              2.709958\n",
       "salary           0.714568\n",
       "dtype: float64"
      ]
     },
     "execution_count": 28,
     "metadata": {},
     "output_type": "execute_result"
    }
   ],
   "source": [
    "df.skew()"
   ]
  },
  {
   "cell_type": "code",
   "execution_count": 29,
   "id": "f748a159",
   "metadata": {},
   "outputs": [
    {
     "name": "stdout",
     "output_type": "stream",
     "text": [
      "-1.1284741858358\n",
      "-0.1770116626350349\n",
      "0.29974153157458827\n",
      "-0.15974634996880785\n",
      "2.6997084522172408\n",
      "0.7118657337591157\n"
     ]
    },
    {
     "data": {
      "image/png": "[encoded data removed]",
      "text/plain": [
       "<Figure size 432x288 with 1 Axes>"
      ]
     },
     "metadata": {
      "needs_background": "light"
     },
     "output_type": "display_data"
    },
    {
     "data": {
      "image/png": "[encoded data removed]",
      "text/plain": [
       "<Figure size 432x288 with 1 Axes>"
      ]
     },
     "metadata": {
      "needs_background": "light"
     },
     "output_type": "display_data"
    },
    {
     "data": {
      "image/png": "[encoded data removed]",
      "text/plain": [
       "<Figure size 432x288 with 1 Axes>"
      ]
     },
     "metadata": {
      "needs_background": "light"
     },
     "output_type": "display_data"
    },
    {
     "data": {
      "image/png": "[encoded data removed]",
      "text/plain": [
       "<Figure size 432x288 with 1 Axes>"
      ]
     },
     "metadata": {
      "needs_background": "light"
     },
     "output_type": "display_data"
    },
    {
     "data": {
      "image/png": "[encoded data removed]",
      "text/plain": [
       "<Figure size 432x288 with 1 Axes>"
      ]
     },
     "metadata": {
      "needs_background": "light"
     },
     "output_type": "display_data"
    },
    {
     "data": {
      "image/png": "[encoded data removed]",
      "text/plain": [
       "<Figure size 432x288 with 1 Axes>"
      ]
     },
     "metadata": {
      "needs_background": "light"
     },
     "output_type": "display_data"
    }
   ],
   "source": [
    "for col in df:\n",
    "    print(skew(df[col]))\n",
    "    plt.figure()\n",
    "    sns.distplot(df[col])\n",
    "    plt.show"
   ]
  },
  {
   "cell_type": "code",
   "execution_count": 30,
   "id": "3ee8aa50",
   "metadata": {},
   "outputs": [
    {
     "data": {
      "text/plain": [
       "<AxesSubplot:>"
      ]
     },
     "execution_count": 30,
     "metadata": {},
     "output_type": "execute_result"
    },
    {
     "data": {
      "image/png": "[encoded data removed]",
      "text/plain": [
       "<Figure size 432x288 with 1 Axes>"
      ]
     },
     "metadata": {
      "needs_background": "light"
     },
     "output_type": "display_data"
    }
   ],
   "source": [
    "df['yrs.service'].plot(kind=\"box\")  "
   ]
  },
  {
   "cell_type": "code",
   "execution_count": 31,
   "id": "fa296ebc",
   "metadata": {},
   "outputs": [
    {
     "data": {
      "text/plain": [
       "<AxesSubplot:>"
      ]
     },
     "execution_count": 31,
     "metadata": {},
     "output_type": "execute_result"
    },
    {
     "data": {
      "image/png": "[encoded data removed]",
      "text/plain": [
       "<Figure size 432x288 with 1 Axes>"
      ]
     },
     "metadata": {
      "needs_background": "light"
     },
     "output_type": "display_data"
    }
   ],
   "source": [
    "df[\"yrs.since.phd\"].plot(kind=\"box\")"
   ]
  },
  {
   "cell_type": "code",
   "execution_count": 32,
   "id": "5a8fed79",
   "metadata": {},
   "outputs": [],
   "source": [
    "# All outliers have been successfully removed "
   ]
  },
  {
   "cell_type": "markdown",
   "id": "07b5818b",
   "metadata": {},
   "source": [
    "# Heatmap and VIF"
   ]
  },
  {
   "cell_type": "code",
   "execution_count": 33,
   "id": "7a54d0d3",
   "metadata": {},
   "outputs": [
    {
     "data": {
      "text/html": [
       "<div>\n",
       "<style scoped>\n",
       "    .dataframe tbody tr th:only-of-type {\n",
       "        vertical-align: middle;\n",
       "    }\n",
       "\n",
       "    .dataframe tbody tr th {\n",
       "        vertical-align: top;\n",
       "    }\n",
       "\n",
       "    .dataframe thead th {\n",
       "        text-align: right;\n",
       "    }\n",
       "</style>\n",
       "<table border=\"1\" class=\"dataframe\">\n",
       "  <thead>\n",
       "    <tr style=\"text-align: right;\">\n",
       "      <th></th>\n",
       "      <th>rank</th>\n",
       "      <th>discipline</th>\n",
       "      <th>yrs.since.phd</th>\n",
       "      <th>yrs.service</th>\n",
       "      <th>sex</th>\n",
       "      <th>salary</th>\n",
       "    </tr>\n",
       "  </thead>\n",
       "  <tbody>\n",
       "    <tr>\n",
       "      <th>rank</th>\n",
       "      <td>1.000000</td>\n",
       "      <td>0.107365</td>\n",
       "      <td>0.700950</td>\n",
       "      <td>0.710596</td>\n",
       "      <td>0.138556</td>\n",
       "      <td>0.617224</td>\n",
       "    </tr>\n",
       "    <tr>\n",
       "      <th>discipline</th>\n",
       "      <td>0.107365</td>\n",
       "      <td>1.000000</td>\n",
       "      <td>0.218087</td>\n",
       "      <td>0.152398</td>\n",
       "      <td>0.003724</td>\n",
       "      <td>0.156084</td>\n",
       "    </tr>\n",
       "    <tr>\n",
       "      <th>yrs.since.phd</th>\n",
       "      <td>0.700950</td>\n",
       "      <td>0.218087</td>\n",
       "      <td>1.000000</td>\n",
       "      <td>0.899098</td>\n",
       "      <td>0.148788</td>\n",
       "      <td>0.419231</td>\n",
       "    </tr>\n",
       "    <tr>\n",
       "      <th>yrs.service</th>\n",
       "      <td>0.710596</td>\n",
       "      <td>0.152398</td>\n",
       "      <td>0.899098</td>\n",
       "      <td>1.000000</td>\n",
       "      <td>0.150439</td>\n",
       "      <td>0.402444</td>\n",
       "    </tr>\n",
       "    <tr>\n",
       "      <th>sex</th>\n",
       "      <td>0.138556</td>\n",
       "      <td>0.003724</td>\n",
       "      <td>0.148788</td>\n",
       "      <td>0.150439</td>\n",
       "      <td>1.000000</td>\n",
       "      <td>0.138610</td>\n",
       "    </tr>\n",
       "    <tr>\n",
       "      <th>salary</th>\n",
       "      <td>0.617224</td>\n",
       "      <td>0.156084</td>\n",
       "      <td>0.419231</td>\n",
       "      <td>0.402444</td>\n",
       "      <td>0.138610</td>\n",
       "      <td>1.000000</td>\n",
       "    </tr>\n",
       "  </tbody>\n",
       "</table>\n",
       "</div>"
      ],
      "text/plain": [
       "                   rank  discipline  yrs.since.phd  yrs.service       sex  \\\n",
       "rank           1.000000    0.107365       0.700950     0.710596  0.138556   \n",
       "discipline     0.107365    1.000000       0.218087     0.152398  0.003724   \n",
       "yrs.since.phd  0.700950    0.218087       1.000000     0.899098  0.148788   \n",
       "yrs.service    0.710596    0.152398       0.899098     1.000000  0.150439   \n",
       "sex            0.138556    0.003724       0.148788     0.150439  1.000000   \n",
       "salary         0.617224    0.156084       0.419231     0.402444  0.138610   \n",
       "\n",
       "                 salary  \n",
       "rank           0.617224  \n",
       "discipline     0.156084  \n",
       "yrs.since.phd  0.419231  \n",
       "yrs.service    0.402444  \n",
       "sex            0.138610  \n",
       "salary         1.000000  "
      ]
     },
     "execution_count": 33,
     "metadata": {},
     "output_type": "execute_result"
    }
   ],
   "source": [
    "# To find corelation using Heatmap and VIF technique\n",
    "df_corr=df.corr().abs()\n",
    "df_corr"
   ]
  },
  {
   "cell_type": "code",
   "execution_count": 34,
   "id": "53c76bc3",
   "metadata": {},
   "outputs": [
    {
     "data": {
      "image/png": "[encoded data removed]",
      "text/plain": [
       "<Figure size 432x288 with 2 Axes>"
      ]
     },
     "metadata": {
      "needs_background": "light"
     },
     "output_type": "display_data"
    }
   ],
   "source": [
    "sns.heatmap(df_corr,annot=True)\n",
    "plt.show()"
   ]
  },
  {
   "cell_type": "code",
   "execution_count": 35,
   "id": "2d7f2baa",
   "metadata": {},
   "outputs": [
    {
     "data": {
      "text/html": [
       "<div>\n",
       "<style scoped>\n",
       "    .dataframe tbody tr th:only-of-type {\n",
       "        vertical-align: middle;\n",
       "    }\n",
       "\n",
       "    .dataframe tbody tr th {\n",
       "        vertical-align: top;\n",
       "    }\n",
       "\n",
       "    .dataframe thead th {\n",
       "        text-align: right;\n",
       "    }\n",
       "</style>\n",
       "<table border=\"1\" class=\"dataframe\">\n",
       "  <thead>\n",
       "    <tr style=\"text-align: right;\">\n",
       "      <th></th>\n",
       "      <th>vif</th>\n",
       "      <th>Features</th>\n",
       "    </tr>\n",
       "  </thead>\n",
       "  <tbody>\n",
       "    <tr>\n",
       "      <th>0</th>\n",
       "      <td>2.112099</td>\n",
       "      <td>rank</td>\n",
       "    </tr>\n",
       "    <tr>\n",
       "      <th>1</th>\n",
       "      <td>1.063886</td>\n",
       "      <td>discipline</td>\n",
       "    </tr>\n",
       "    <tr>\n",
       "      <th>2</th>\n",
       "      <td>5.651152</td>\n",
       "      <td>yrs.since.phd</td>\n",
       "    </tr>\n",
       "    <tr>\n",
       "      <th>3</th>\n",
       "      <td>5.636445</td>\n",
       "      <td>yrs.service</td>\n",
       "    </tr>\n",
       "    <tr>\n",
       "      <th>4</th>\n",
       "      <td>1.026865</td>\n",
       "      <td>sex</td>\n",
       "    </tr>\n",
       "  </tbody>\n",
       "</table>\n",
       "</div>"
      ],
      "text/plain": [
       "        vif       Features\n",
       "0  2.112099           rank\n",
       "1  1.063886     discipline\n",
       "2  5.651152  yrs.since.phd\n",
       "3  5.636445    yrs.service\n",
       "4  1.026865            sex"
      ]
     },
     "execution_count": 35,
     "metadata": {},
     "output_type": "execute_result"
    }
   ],
   "source": [
    "X=df.drop(columns='salary')\n",
    "Y=df[['salary']]\n",
    "scalar=StandardScaler()\n",
    "X_scaled=scalar.fit_transform(X)\n",
    "\n",
    "vif=pd.DataFrame()\n",
    "vif[\"vif\"]=[variance_inflation_factor(X_scaled,i) for i in range(X_scaled.shape[1])]\n",
    "vif[\"Features\"]=X.columns\n",
    "vif"
   ]
  },
  {
   "cell_type": "code",
   "execution_count": 36,
   "id": "e5eb09da",
   "metadata": {},
   "outputs": [],
   "source": [
    "# Corelation between features and label is moderate. yrs.sine.phd and yr.service are highly corelated indicated by vif\n",
    "# As the feature sex is not highly correlated to the dependent variable and is highly imbalanced.Lets drop it."
   ]
  },
  {
   "cell_type": "code",
   "execution_count": 37,
   "id": "6aa41330",
   "metadata": {},
   "outputs": [],
   "source": [
    " df.drop(columns=\"sex\",inplace=True)"
   ]
  },
  {
   "cell_type": "code",
   "execution_count": 38,
   "id": "79b9dbcb",
   "metadata": {},
   "outputs": [],
   "source": [
    "X=df.drop(columns='salary')\n",
    "Y=df[['salary']]"
   ]
  },
  {
   "cell_type": "markdown",
   "id": "0a6d6116",
   "metadata": {},
   "source": [
    "# OLS"
   ]
  },
  {
   "cell_type": "code",
   "execution_count": 39,
   "id": "71775903",
   "metadata": {
    "scrolled": false
   },
   "outputs": [],
   "source": [
    "sm=smf.ols(formula='Y~X',data=df).fit()"
   ]
  },
  {
   "cell_type": "code",
   "execution_count": 40,
   "id": "f446d4df",
   "metadata": {},
   "outputs": [
    {
     "data": {
      "text/html": [
       "<table class=\"simpletable\">\n",
       "<caption>OLS Regression Results</caption>\n",
       "<tr>\n",
       "  <th>Dep. Variable:</th>            <td>Y</td>        <th>  R-squared:         </th> <td>   0.438</td>\n",
       "</tr>\n",
       "<tr>\n",
       "  <th>Model:</th>                   <td>OLS</td>       <th>  Adj. R-squared:    </th> <td>   0.432</td>\n",
       "</tr>\n",
       "<tr>\n",
       "  <th>Method:</th>             <td>Least Squares</td>  <th>  F-statistic:       </th> <td>   76.44</td>\n",
       "</tr>\n",
       "<tr>\n",
       "  <th>Date:</th>             <td>Fri, 11 Mar 2022</td> <th>  Prob (F-statistic):</th> <td>7.17e-48</td>\n",
       "</tr>\n",
       "<tr>\n",
       "  <th>Time:</th>                 <td>12:52:08</td>     <th>  Log-Likelihood:    </th> <td> -4544.8</td>\n",
       "</tr>\n",
       "<tr>\n",
       "  <th>No. Observations:</th>      <td>   397</td>      <th>  AIC:               </th> <td>   9100.</td>\n",
       "</tr>\n",
       "<tr>\n",
       "  <th>Df Residuals:</th>          <td>   392</td>      <th>  BIC:               </th> <td>   9120.</td>\n",
       "</tr>\n",
       "<tr>\n",
       "  <th>Df Model:</th>              <td>     4</td>      <th>                     </th>     <td> </td>   \n",
       "</tr>\n",
       "<tr>\n",
       "  <th>Covariance Type:</th>      <td>nonrobust</td>    <th>                     </th>     <td> </td>   \n",
       "</tr>\n",
       "</table>\n",
       "<table class=\"simpletable\">\n",
       "<tr>\n",
       "      <td></td>         <th>coef</th>     <th>std err</th>      <th>t</th>      <th>P>|t|</th>  <th>[0.025</th>    <th>0.975]</th>  \n",
       "</tr>\n",
       "<tr>\n",
       "  <th>Intercept</th> <td> 7.071e+04</td> <td> 3389.262</td> <td>   20.863</td> <td> 0.000</td> <td>  6.4e+04</td> <td> 7.74e+04</td>\n",
       "</tr>\n",
       "<tr>\n",
       "  <th>X[0]</th>      <td> 2.544e+04</td> <td> 2169.693</td> <td>   11.727</td> <td> 0.000</td> <td> 2.12e+04</td> <td> 2.97e+04</td>\n",
       "</tr>\n",
       "<tr>\n",
       "  <th>X[1]</th>      <td> 1.445e+04</td> <td> 2370.441</td> <td>    6.095</td> <td> 0.000</td> <td> 9786.508</td> <td> 1.91e+04</td>\n",
       "</tr>\n",
       "<tr>\n",
       "  <th>X[2]</th>      <td>  449.7893</td> <td>  211.433</td> <td>    2.127</td> <td> 0.034</td> <td>   34.106</td> <td>  865.473</td>\n",
       "</tr>\n",
       "<tr>\n",
       "  <th>X[3]</th>      <td>-3412.3741</td> <td> 1601.256</td> <td>   -2.131</td> <td> 0.034</td> <td>-6560.497</td> <td> -264.251</td>\n",
       "</tr>\n",
       "</table>\n",
       "<table class=\"simpletable\">\n",
       "<tr>\n",
       "  <th>Omnibus:</th>       <td>47.869</td> <th>  Durbin-Watson:     </th> <td>   1.888</td>\n",
       "</tr>\n",
       "<tr>\n",
       "  <th>Prob(Omnibus):</th> <td> 0.000</td> <th>  Jarque-Bera (JB):  </th> <td>  80.868</td>\n",
       "</tr>\n",
       "<tr>\n",
       "  <th>Skew:</th>          <td> 0.737</td> <th>  Prob(JB):          </th> <td>2.75e-18</td>\n",
       "</tr>\n",
       "<tr>\n",
       "  <th>Kurtosis:</th>      <td> 4.649</td> <th>  Cond. No.          </th> <td>    84.5</td>\n",
       "</tr>\n",
       "</table><br/><br/>Notes:<br/>[1] Standard Errors assume that the covariance matrix of the errors is correctly specified."
      ],
      "text/plain": [
       "<class 'statsmodels.iolib.summary.Summary'>\n",
       "\"\"\"\n",
       "                            OLS Regression Results                            \n",
       "==============================================================================\n",
       "Dep. Variable:                      Y   R-squared:                       0.438\n",
       "Model:                            OLS   Adj. R-squared:                  0.432\n",
       "Method:                 Least Squares   F-statistic:                     76.44\n",
       "Date:                Fri, 11 Mar 2022   Prob (F-statistic):           7.17e-48\n",
       "Time:                        12:52:08   Log-Likelihood:                -4544.8\n",
       "No. Observations:                 397   AIC:                             9100.\n",
       "Df Residuals:                     392   BIC:                             9120.\n",
       "Df Model:                           4                                         \n",
       "Covariance Type:            nonrobust                                         \n",
       "==============================================================================\n",
       "                 coef    std err          t      P>|t|      [0.025      0.975]\n",
       "------------------------------------------------------------------------------\n",
       "Intercept   7.071e+04   3389.262     20.863      0.000     6.4e+04    7.74e+04\n",
       "X[0]        2.544e+04   2169.693     11.727      0.000    2.12e+04    2.97e+04\n",
       "X[1]        1.445e+04   2370.441      6.095      0.000    9786.508    1.91e+04\n",
       "X[2]         449.7893    211.433      2.127      0.034      34.106     865.473\n",
       "X[3]       -3412.3741   1601.256     -2.131      0.034   -6560.497    -264.251\n",
       "==============================================================================\n",
       "Omnibus:                       47.869   Durbin-Watson:                   1.888\n",
       "Prob(Omnibus):                  0.000   Jarque-Bera (JB):               80.868\n",
       "Skew:                           0.737   Prob(JB):                     2.75e-18\n",
       "Kurtosis:                       4.649   Cond. No.                         84.5\n",
       "==============================================================================\n",
       "\n",
       "Notes:\n",
       "[1] Standard Errors assume that the covariance matrix of the errors is correctly specified.\n",
       "\"\"\""
      ]
     },
     "execution_count": 40,
     "metadata": {},
     "output_type": "execute_result"
    }
   ],
   "source": [
    "sm.summary()"
   ]
  },
  {
   "cell_type": "code",
   "execution_count": 41,
   "id": "fbbbf56b",
   "metadata": {},
   "outputs": [],
   "source": [
    "# R2 value is 0.438\n",
    "# Let us drop yrs.service as it is highly corelated with yrs.since.phd and check wether R2 value improves or not "
   ]
  },
  {
   "cell_type": "code",
   "execution_count": 42,
   "id": "ca60729e",
   "metadata": {},
   "outputs": [],
   "source": [
    "X1=X.drop(columns='yrs.service')"
   ]
  },
  {
   "cell_type": "code",
   "execution_count": 43,
   "id": "958a9cc7",
   "metadata": {},
   "outputs": [
    {
     "data": {
      "text/html": [
       "<div>\n",
       "<style scoped>\n",
       "    .dataframe tbody tr th:only-of-type {\n",
       "        vertical-align: middle;\n",
       "    }\n",
       "\n",
       "    .dataframe tbody tr th {\n",
       "        vertical-align: top;\n",
       "    }\n",
       "\n",
       "    .dataframe thead th {\n",
       "        text-align: right;\n",
       "    }\n",
       "</style>\n",
       "<table border=\"1\" class=\"dataframe\">\n",
       "  <thead>\n",
       "    <tr style=\"text-align: right;\">\n",
       "      <th></th>\n",
       "      <th>rank</th>\n",
       "      <th>discipline</th>\n",
       "      <th>yrs.since.phd</th>\n",
       "    </tr>\n",
       "  </thead>\n",
       "  <tbody>\n",
       "    <tr>\n",
       "      <th>0</th>\n",
       "      <td>2.0</td>\n",
       "      <td>1.0</td>\n",
       "      <td>19</td>\n",
       "    </tr>\n",
       "    <tr>\n",
       "      <th>1</th>\n",
       "      <td>2.0</td>\n",
       "      <td>1.0</td>\n",
       "      <td>20</td>\n",
       "    </tr>\n",
       "    <tr>\n",
       "      <th>2</th>\n",
       "      <td>0.0</td>\n",
       "      <td>1.0</td>\n",
       "      <td>4</td>\n",
       "    </tr>\n",
       "    <tr>\n",
       "      <th>3</th>\n",
       "      <td>2.0</td>\n",
       "      <td>1.0</td>\n",
       "      <td>45</td>\n",
       "    </tr>\n",
       "    <tr>\n",
       "      <th>4</th>\n",
       "      <td>2.0</td>\n",
       "      <td>1.0</td>\n",
       "      <td>40</td>\n",
       "    </tr>\n",
       "    <tr>\n",
       "      <th>...</th>\n",
       "      <td>...</td>\n",
       "      <td>...</td>\n",
       "      <td>...</td>\n",
       "    </tr>\n",
       "    <tr>\n",
       "      <th>392</th>\n",
       "      <td>2.0</td>\n",
       "      <td>0.0</td>\n",
       "      <td>33</td>\n",
       "    </tr>\n",
       "    <tr>\n",
       "      <th>393</th>\n",
       "      <td>2.0</td>\n",
       "      <td>0.0</td>\n",
       "      <td>31</td>\n",
       "    </tr>\n",
       "    <tr>\n",
       "      <th>394</th>\n",
       "      <td>2.0</td>\n",
       "      <td>0.0</td>\n",
       "      <td>42</td>\n",
       "    </tr>\n",
       "    <tr>\n",
       "      <th>395</th>\n",
       "      <td>2.0</td>\n",
       "      <td>0.0</td>\n",
       "      <td>25</td>\n",
       "    </tr>\n",
       "    <tr>\n",
       "      <th>396</th>\n",
       "      <td>0.0</td>\n",
       "      <td>0.0</td>\n",
       "      <td>8</td>\n",
       "    </tr>\n",
       "  </tbody>\n",
       "</table>\n",
       "<p>397 rows × 3 columns</p>\n",
       "</div>"
      ],
      "text/plain": [
       "     rank  discipline  yrs.since.phd\n",
       "0     2.0         1.0             19\n",
       "1     2.0         1.0             20\n",
       "2     0.0         1.0              4\n",
       "3     2.0         1.0             45\n",
       "4     2.0         1.0             40\n",
       "..    ...         ...            ...\n",
       "392   2.0         0.0             33\n",
       "393   2.0         0.0             31\n",
       "394   2.0         0.0             42\n",
       "395   2.0         0.0             25\n",
       "396   0.0         0.0              8\n",
       "\n",
       "[397 rows x 3 columns]"
      ]
     },
     "execution_count": 43,
     "metadata": {},
     "output_type": "execute_result"
    }
   ],
   "source": [
    "X1"
   ]
  },
  {
   "cell_type": "code",
   "execution_count": 44,
   "id": "20bbd685",
   "metadata": {
    "scrolled": false
   },
   "outputs": [],
   "source": [
    "sm=smf.ols(formula='Y~X1',data=df).fit()"
   ]
  },
  {
   "cell_type": "code",
   "execution_count": 45,
   "id": "29a2f306",
   "metadata": {},
   "outputs": [
    {
     "data": {
      "text/html": [
       "<table class=\"simpletable\">\n",
       "<caption>OLS Regression Results</caption>\n",
       "<tr>\n",
       "  <th>Dep. Variable:</th>            <td>Y</td>        <th>  R-squared:         </th> <td>   0.432</td>\n",
       "</tr>\n",
       "<tr>\n",
       "  <th>Model:</th>                   <td>OLS</td>       <th>  Adj. R-squared:    </th> <td>   0.427</td>\n",
       "</tr>\n",
       "<tr>\n",
       "  <th>Method:</th>             <td>Least Squares</td>  <th>  F-statistic:       </th> <td>   99.51</td>\n",
       "</tr>\n",
       "<tr>\n",
       "  <th>Date:</th>             <td>Fri, 11 Mar 2022</td> <th>  Prob (F-statistic):</th> <td>6.21e-48</td>\n",
       "</tr>\n",
       "<tr>\n",
       "  <th>Time:</th>                 <td>12:52:09</td>     <th>  Log-Likelihood:    </th> <td> -4547.1</td>\n",
       "</tr>\n",
       "<tr>\n",
       "  <th>No. Observations:</th>      <td>   397</td>      <th>  AIC:               </th> <td>   9102.</td>\n",
       "</tr>\n",
       "<tr>\n",
       "  <th>Df Residuals:</th>          <td>   393</td>      <th>  BIC:               </th> <td>   9118.</td>\n",
       "</tr>\n",
       "<tr>\n",
       "  <th>Df Model:</th>              <td>     3</td>      <th>                     </th>     <td> </td>   \n",
       "</tr>\n",
       "<tr>\n",
       "  <th>Covariance Type:</th>      <td>nonrobust</td>    <th>                     </th>     <td> </td>   \n",
       "</tr>\n",
       "</table>\n",
       "<table class=\"simpletable\">\n",
       "<tr>\n",
       "      <td></td>         <th>coef</th>     <th>std err</th>      <th>t</th>      <th>P>|t|</th>  <th>[0.025</th>    <th>0.975]</th>  \n",
       "</tr>\n",
       "<tr>\n",
       "  <th>Intercept</th> <td> 6.764e+04</td> <td> 3080.432</td> <td>   21.956</td> <td> 0.000</td> <td> 6.16e+04</td> <td> 7.37e+04</td>\n",
       "</tr>\n",
       "<tr>\n",
       "  <th>X1[0]</th>     <td> 2.428e+04</td> <td> 2108.761</td> <td>   11.512</td> <td> 0.000</td> <td> 2.01e+04</td> <td> 2.84e+04</td>\n",
       "</tr>\n",
       "<tr>\n",
       "  <th>X1[1]</th>     <td>   1.4e+04</td> <td> 2371.735</td> <td>    5.903</td> <td> 0.000</td> <td> 9336.475</td> <td> 1.87e+04</td>\n",
       "</tr>\n",
       "<tr>\n",
       "  <th>X1[2]</th>     <td>   90.1407</td> <td>  127.939</td> <td>    0.705</td> <td> 0.482</td> <td> -161.389</td> <td>  341.671</td>\n",
       "</tr>\n",
       "</table>\n",
       "<table class=\"simpletable\">\n",
       "<tr>\n",
       "  <th>Omnibus:</th>       <td>53.614</td> <th>  Durbin-Watson:     </th> <td>   1.850</td>\n",
       "</tr>\n",
       "<tr>\n",
       "  <th>Prob(Omnibus):</th> <td> 0.000</td> <th>  Jarque-Bera (JB):  </th> <td>  94.574</td>\n",
       "</tr>\n",
       "<tr>\n",
       "  <th>Skew:</th>          <td> 0.795</td> <th>  Prob(JB):          </th> <td>2.91e-21</td>\n",
       "</tr>\n",
       "<tr>\n",
       "  <th>Kurtosis:</th>      <td> 4.786</td> <th>  Cond. No.          </th> <td>    78.9</td>\n",
       "</tr>\n",
       "</table><br/><br/>Notes:<br/>[1] Standard Errors assume that the covariance matrix of the errors is correctly specified."
      ],
      "text/plain": [
       "<class 'statsmodels.iolib.summary.Summary'>\n",
       "\"\"\"\n",
       "                            OLS Regression Results                            \n",
       "==============================================================================\n",
       "Dep. Variable:                      Y   R-squared:                       0.432\n",
       "Model:                            OLS   Adj. R-squared:                  0.427\n",
       "Method:                 Least Squares   F-statistic:                     99.51\n",
       "Date:                Fri, 11 Mar 2022   Prob (F-statistic):           6.21e-48\n",
       "Time:                        12:52:09   Log-Likelihood:                -4547.1\n",
       "No. Observations:                 397   AIC:                             9102.\n",
       "Df Residuals:                     393   BIC:                             9118.\n",
       "Df Model:                           3                                         \n",
       "Covariance Type:            nonrobust                                         \n",
       "==============================================================================\n",
       "                 coef    std err          t      P>|t|      [0.025      0.975]\n",
       "------------------------------------------------------------------------------\n",
       "Intercept   6.764e+04   3080.432     21.956      0.000    6.16e+04    7.37e+04\n",
       "X1[0]       2.428e+04   2108.761     11.512      0.000    2.01e+04    2.84e+04\n",
       "X1[1]         1.4e+04   2371.735      5.903      0.000    9336.475    1.87e+04\n",
       "X1[2]         90.1407    127.939      0.705      0.482    -161.389     341.671\n",
       "==============================================================================\n",
       "Omnibus:                       53.614   Durbin-Watson:                   1.850\n",
       "Prob(Omnibus):                  0.000   Jarque-Bera (JB):               94.574\n",
       "Skew:                           0.795   Prob(JB):                     2.91e-21\n",
       "Kurtosis:                       4.786   Cond. No.                         78.9\n",
       "==============================================================================\n",
       "\n",
       "Notes:\n",
       "[1] Standard Errors assume that the covariance matrix of the errors is correctly specified.\n",
       "\"\"\""
      ]
     },
     "execution_count": 45,
     "metadata": {},
     "output_type": "execute_result"
    }
   ],
   "source": [
    "sm.summary()"
   ]
  },
  {
   "cell_type": "code",
   "execution_count": 46,
   "id": "d5160b9b",
   "metadata": {},
   "outputs": [],
   "source": [
    "# Dropping yrs.service feature is not improving the R2 value hence retaining it."
   ]
  },
  {
   "cell_type": "markdown",
   "id": "820d81c2",
   "metadata": {},
   "source": [
    "# Linear Regression Without Hyperparameter Tuning"
   ]
  },
  {
   "cell_type": "code",
   "execution_count": 47,
   "id": "ccbcd128",
   "metadata": {},
   "outputs": [],
   "source": [
    "scaler=StandardScaler() #Scaling\n",
    "X_scaled=scaler.fit_transform(X)"
   ]
  },
  {
   "cell_type": "code",
   "execution_count": 48,
   "id": "d595944a",
   "metadata": {},
   "outputs": [],
   "source": [
    "X_train,X_test,Y_train,Y_test=train_test_split(X_scaled,Y,test_size=0.25,random_state=21) #Training Test split"
   ]
  },
  {
   "cell_type": "code",
   "execution_count": 49,
   "id": "9dcad261",
   "metadata": {},
   "outputs": [
    {
     "data": {
      "text/plain": [
       "LinearRegression()"
      ]
     },
     "execution_count": 49,
     "metadata": {},
     "output_type": "execute_result"
    }
   ],
   "source": [
    "lm=LinearRegression() # Applying Regression\n",
    "lm.fit(X_train,Y_train) # Fitting the model"
   ]
  },
  {
   "cell_type": "code",
   "execution_count": 50,
   "id": "2cacb9df",
   "metadata": {},
   "outputs": [],
   "source": [
    "Y_pred=lm.predict(X_test) # Predicting the Test data\n",
    "Y_pred_train=lm.predict(X_train) #Predicting the Train data"
   ]
  },
  {
   "cell_type": "code",
   "execution_count": 51,
   "id": "fa46977b",
   "metadata": {},
   "outputs": [
    {
     "data": {
      "text/plain": [
       "0.43681685851327146"
      ]
     },
     "execution_count": 51,
     "metadata": {},
     "output_type": "execute_result"
    }
   ],
   "source": [
    "lm.score(X_train,Y_train)"
   ]
  },
  {
   "cell_type": "code",
   "execution_count": 52,
   "id": "289bba51",
   "metadata": {},
   "outputs": [
    {
     "data": {
      "text/plain": [
       "0.44047473463768894"
      ]
     },
     "execution_count": 52,
     "metadata": {},
     "output_type": "execute_result"
    }
   ],
   "source": [
    "lm.score(X_test,Y_test)"
   ]
  },
  {
   "cell_type": "code",
   "execution_count": 53,
   "id": "8ac91494",
   "metadata": {},
   "outputs": [
    {
     "data": {
      "text/plain": [
       "0.44047473463768894"
      ]
     },
     "execution_count": 53,
     "metadata": {},
     "output_type": "execute_result"
    }
   ],
   "source": [
    "r2=r2_score(Y_test,Y_pred) #r2_score\n",
    "r2"
   ]
  },
  {
   "cell_type": "code",
   "execution_count": 54,
   "id": "b4c28df3",
   "metadata": {},
   "outputs": [
    {
     "data": {
      "text/plain": [
       "array([0.44399004, 0.46259165, 0.34961987, 0.50069937, 0.3655911 ])"
      ]
     },
     "execution_count": 54,
     "metadata": {},
     "output_type": "execute_result"
    }
   ],
   "source": [
    "cross_scores = cross_val_score(lm, X_train, Y_train, scoring='r2', cv=5)\n",
    "cross_scores   "
   ]
  },
  {
   "cell_type": "code",
   "execution_count": 55,
   "id": "3b4c950d",
   "metadata": {},
   "outputs": [
    {
     "data": {
      "text/plain": [
       "0.4244984050521059"
      ]
     },
     "execution_count": 55,
     "metadata": {},
     "output_type": "execute_result"
    }
   ],
   "source": [
    "cross_scores.mean()"
   ]
  },
  {
   "cell_type": "code",
   "execution_count": 56,
   "id": "37a142fc",
   "metadata": {},
   "outputs": [
    {
     "data": {
      "text/plain": [
       "17373.307058368813"
      ]
     },
     "execution_count": 56,
     "metadata": {},
     "output_type": "execute_result"
    }
   ],
   "source": [
    "mean_absolute_error(Y_test,Y_pred) #MAE"
   ]
  },
  {
   "cell_type": "code",
   "execution_count": 57,
   "id": "a4f341de",
   "metadata": {},
   "outputs": [
    {
     "data": {
      "text/plain": [
       "529280111.94510216"
      ]
     },
     "execution_count": 57,
     "metadata": {},
     "output_type": "execute_result"
    }
   ],
   "source": [
    "mean_squared_error(Y_test,Y_pred) #MSE"
   ]
  },
  {
   "cell_type": "code",
   "execution_count": 58,
   "id": "6538fab0",
   "metadata": {},
   "outputs": [
    {
     "data": {
      "image/png": "[encoded data removed]",
      "text/plain": [
       "<Figure size 432x288 with 1 Axes>"
      ]
     },
     "metadata": {
      "needs_background": "light"
     },
     "output_type": "display_data"
    }
   ],
   "source": [
    "plt.scatter(Y_test,Y_pred) # Relation between actual and predicted data\n",
    "plt.xlabel('actual data')\n",
    "plt.ylabel('predicted data')\n",
    "plt.show()"
   ]
  },
  {
   "cell_type": "code",
   "execution_count": 59,
   "id": "d8c66d28",
   "metadata": {},
   "outputs": [],
   "source": [
    "# R-squared:\t 0.44047473463768894\n",
    "# mean_absolute_error= 17373.307058368813\n",
    "# mean_squared_error= 529280111.94510216"
   ]
  },
  {
   "cell_type": "markdown",
   "id": "3949c089",
   "metadata": {},
   "source": [
    "# Linear Regression Using Ridge Regression"
   ]
  },
  {
   "cell_type": "code",
   "execution_count": 60,
   "id": "ac029436",
   "metadata": {},
   "outputs": [],
   "source": [
    "ridge=Ridge()"
   ]
  },
  {
   "cell_type": "code",
   "execution_count": 61,
   "id": "154c0a7e",
   "metadata": {},
   "outputs": [],
   "source": [
    "parameters={\n",
    "    'alpha':[1e-15,1e-10,1e-8,1e-3,1e-2,1,5,10,20,30,35,40,45,50,55,100]\n",
    "}\n",
    "ridge_regressor=GridSearchCV(ridge,parameters,scoring='r2',cv=5)"
   ]
  },
  {
   "cell_type": "code",
   "execution_count": 62,
   "id": "1f675695",
   "metadata": {},
   "outputs": [
    {
     "data": {
      "text/plain": [
       "GridSearchCV(cv=5, estimator=Ridge(),\n",
       "             param_grid={'alpha': [1e-15, 1e-10, 1e-08, 0.001, 0.01, 1, 5, 10,\n",
       "                                   20, 30, 35, 40, 45, 50, 55, 100]},\n",
       "             scoring='r2')"
      ]
     },
     "execution_count": 62,
     "metadata": {},
     "output_type": "execute_result"
    }
   ],
   "source": [
    "ridge_regressor.fit(X_train,Y_train)"
   ]
  },
  {
   "cell_type": "code",
   "execution_count": 63,
   "id": "95871e2f",
   "metadata": {},
   "outputs": [
    {
     "name": "stdout",
     "output_type": "stream",
     "text": [
      "{'alpha': 5}\n"
     ]
    }
   ],
   "source": [
    "print(ridge_regressor.best_params_)"
   ]
  },
  {
   "cell_type": "code",
   "execution_count": 64,
   "id": "d615816a",
   "metadata": {},
   "outputs": [
    {
     "name": "stdout",
     "output_type": "stream",
     "text": [
      "0.42521702992977284\n"
     ]
    }
   ],
   "source": [
    "print(ridge_regressor.best_score_)"
   ]
  },
  {
   "cell_type": "code",
   "execution_count": 65,
   "id": "d2c42720",
   "metadata": {},
   "outputs": [],
   "source": [
    "Y_pred=ridge_regressor.predict(X_test)\n",
    "Y_pred_train=ridge_regressor.predict(X_train)"
   ]
  },
  {
   "cell_type": "code",
   "execution_count": 66,
   "id": "718e7659",
   "metadata": {},
   "outputs": [
    {
     "data": {
      "text/plain": [
       "0.4363974450864223"
      ]
     },
     "execution_count": 66,
     "metadata": {},
     "output_type": "execute_result"
    }
   ],
   "source": [
    "ridge_regressor.score(X_train,Y_train)"
   ]
  },
  {
   "cell_type": "code",
   "execution_count": 67,
   "id": "5647590c",
   "metadata": {},
   "outputs": [
    {
     "data": {
      "text/plain": [
       "0.4387162560847844"
      ]
     },
     "execution_count": 67,
     "metadata": {},
     "output_type": "execute_result"
    }
   ],
   "source": [
    "ridge_regressor.score(X_test,Y_test)"
   ]
  },
  {
   "cell_type": "code",
   "execution_count": 68,
   "id": "db732178",
   "metadata": {},
   "outputs": [
    {
     "data": {
      "text/plain": [
       "0.4387162560847844"
      ]
     },
     "execution_count": 68,
     "metadata": {},
     "output_type": "execute_result"
    }
   ],
   "source": [
    "r2=r2_score(Y_test,Y_pred)\n",
    "r2"
   ]
  },
  {
   "cell_type": "code",
   "execution_count": 69,
   "id": "45f20fbe",
   "metadata": {},
   "outputs": [
    {
     "data": {
      "text/plain": [
       "array([0.43906071, 0.46290032, 0.35560469, 0.50639245, 0.36212698])"
      ]
     },
     "execution_count": 69,
     "metadata": {},
     "output_type": "execute_result"
    }
   ],
   "source": [
    "cross_scores = cross_val_score(ridge_regressor, X_train, Y_train, scoring='r2', cv=5)\n",
    "cross_scores   "
   ]
  },
  {
   "cell_type": "code",
   "execution_count": 70,
   "id": "4d417c1d",
   "metadata": {},
   "outputs": [
    {
     "data": {
      "text/plain": [
       "0.42521702992977284"
      ]
     },
     "execution_count": 70,
     "metadata": {},
     "output_type": "execute_result"
    }
   ],
   "source": [
    "cross_scores.mean()"
   ]
  },
  {
   "cell_type": "code",
   "execution_count": 71,
   "id": "d018dee5",
   "metadata": {},
   "outputs": [
    {
     "data": {
      "text/plain": [
       "17314.65968510697"
      ]
     },
     "execution_count": 71,
     "metadata": {},
     "output_type": "execute_result"
    }
   ],
   "source": [
    "mean_absolute_error(Y_test,Y_pred)"
   ]
  },
  {
   "cell_type": "code",
   "execution_count": 72,
   "id": "a6abf5a0",
   "metadata": {},
   "outputs": [
    {
     "data": {
      "text/plain": [
       "530943535.892065"
      ]
     },
     "execution_count": 72,
     "metadata": {},
     "output_type": "execute_result"
    }
   ],
   "source": [
    "mean_squared_error(Y_test,Y_pred)"
   ]
  },
  {
   "cell_type": "code",
   "execution_count": 73,
   "id": "203e32d0",
   "metadata": {},
   "outputs": [
    {
     "data": {
      "image/png": "[encoded data removed]",
      "text/plain": [
       "<Figure size 432x288 with 1 Axes>"
      ]
     },
     "metadata": {
      "needs_background": "light"
     },
     "output_type": "display_data"
    }
   ],
   "source": [
    "plt.scatter(Y_test,Y_pred)\n",
    "plt.xlabel('actual data')\n",
    "plt.ylabel('predicted data')\n",
    "plt.show()"
   ]
  },
  {
   "cell_type": "code",
   "execution_count": 74,
   "id": "bc0d6584",
   "metadata": {},
   "outputs": [],
   "source": [
    "# R-squared:\t0.4387162560847844\n",
    "# mean_absolute_error= 17314.65968510697\n",
    "# mean_squared_error=530943535.892065"
   ]
  },
  {
   "cell_type": "markdown",
   "id": "cdd0be24",
   "metadata": {},
   "source": [
    "# Random Forest MODEL"
   ]
  },
  {
   "cell_type": "code",
   "execution_count": 75,
   "id": "771676e8",
   "metadata": {},
   "outputs": [],
   "source": [
    "X=df.drop(columns='salary')\n",
    "Y=df[['salary']]"
   ]
  },
  {
   "cell_type": "code",
   "execution_count": 76,
   "id": "12e82c6d",
   "metadata": {},
   "outputs": [
    {
     "data": {
      "text/plain": [
       "RandomForestRegressor()"
      ]
     },
     "execution_count": 76,
     "metadata": {},
     "output_type": "execute_result"
    }
   ],
   "source": [
    "X_train,X_test,Y_train,Y_test=train_test_split(X,Y,test_size=0.25,random_state=21)\n",
    "rf=RandomForestRegressor()\n",
    "rf.fit(X_train,Y_train)"
   ]
  },
  {
   "cell_type": "code",
   "execution_count": 77,
   "id": "d8b0eb0a",
   "metadata": {},
   "outputs": [],
   "source": [
    "Y_pred=rf.predict(X_test)"
   ]
  },
  {
   "cell_type": "code",
   "execution_count": 78,
   "id": "7aed96b9",
   "metadata": {},
   "outputs": [
    {
     "data": {
      "text/plain": [
       "0.8414436303016156"
      ]
     },
     "execution_count": 78,
     "metadata": {},
     "output_type": "execute_result"
    }
   ],
   "source": [
    "rf.score(X_train,Y_train)"
   ]
  },
  {
   "cell_type": "code",
   "execution_count": 79,
   "id": "110f6167",
   "metadata": {},
   "outputs": [
    {
     "data": {
      "text/plain": [
       "0.4761636173739604"
      ]
     },
     "execution_count": 79,
     "metadata": {},
     "output_type": "execute_result"
    }
   ],
   "source": [
    "rf.score(X_test,Y_test)"
   ]
  },
  {
   "cell_type": "code",
   "execution_count": 80,
   "id": "a99b0f95",
   "metadata": {},
   "outputs": [
    {
     "data": {
      "text/plain": [
       "0.4761636173739604"
      ]
     },
     "execution_count": 80,
     "metadata": {},
     "output_type": "execute_result"
    }
   ],
   "source": [
    "r2=r2_score(Y_test,Y_pred)\n",
    "r2"
   ]
  },
  {
   "cell_type": "code",
   "execution_count": 81,
   "id": "774d813b",
   "metadata": {},
   "outputs": [
    {
     "data": {
      "text/plain": [
       "array([0.31889482, 0.3576213 , 0.15981326, 0.39656073, 0.22106422])"
      ]
     },
     "execution_count": 81,
     "metadata": {},
     "output_type": "execute_result"
    }
   ],
   "source": [
    "cross_scores = cross_val_score(rf, X_train, Y_train, scoring='r2', cv=5)\n",
    "cross_scores "
   ]
  },
  {
   "cell_type": "code",
   "execution_count": 82,
   "id": "77c4c5b7",
   "metadata": {},
   "outputs": [
    {
     "data": {
      "text/plain": [
       "0.29079086569687596"
      ]
     },
     "execution_count": 82,
     "metadata": {},
     "output_type": "execute_result"
    }
   ],
   "source": [
    "cross_scores.mean()"
   ]
  },
  {
   "cell_type": "code",
   "execution_count": 83,
   "id": "0f40986d",
   "metadata": {},
   "outputs": [
    {
     "data": {
      "text/plain": [
       "16098.752285847762"
      ]
     },
     "execution_count": 83,
     "metadata": {},
     "output_type": "execute_result"
    }
   ],
   "source": [
    "mean_absolute_error(Y_test,Y_pred)"
   ]
  },
  {
   "cell_type": "code",
   "execution_count": 84,
   "id": "c3bc2453",
   "metadata": {},
   "outputs": [
    {
     "data": {
      "text/plain": [
       "495520392.7345356"
      ]
     },
     "execution_count": 84,
     "metadata": {},
     "output_type": "execute_result"
    }
   ],
   "source": [
    "mean_squared_error(Y_test,Y_pred)"
   ]
  },
  {
   "cell_type": "code",
   "execution_count": 85,
   "id": "fc907dc5",
   "metadata": {},
   "outputs": [
    {
     "data": {
      "image/png": "[encoded data removed]",
      "text/plain": [
       "<Figure size 432x288 with 1 Axes>"
      ]
     },
     "metadata": {
      "needs_background": "light"
     },
     "output_type": "display_data"
    }
   ],
   "source": [
    "plt.scatter(Y_test,Y_pred)\n",
    "plt.xlabel('actual data')\n",
    "plt.ylabel('predicted data')\n",
    "plt.show()"
   ]
  },
  {
   "cell_type": "code",
   "execution_count": 86,
   "id": "6bf7c5c2",
   "metadata": {},
   "outputs": [],
   "source": [
    "# R-squared:\t0.4704012728661511\n",
    "# mean_absolute_error= 16430.347389646464\n",
    "# mean_squared_error= 500971253.5534562"
   ]
  },
  {
   "cell_type": "markdown",
   "id": "d180854c",
   "metadata": {},
   "source": [
    "# RANDOM FOREST WITH HYPER PARAMETER TUNING"
   ]
  },
  {
   "cell_type": "code",
   "execution_count": 87,
   "id": "fdcb89c5",
   "metadata": {},
   "outputs": [],
   "source": [
    "X_train,X_test,Y_train,Y_test=train_test_split(X,Y,test_size=0.25,random_state=21)"
   ]
  },
  {
   "cell_type": "code",
   "execution_count": 88,
   "id": "2218023f",
   "metadata": {},
   "outputs": [],
   "source": [
    "rf1=RandomForestRegressor()"
   ]
  },
  {
   "cell_type": "code",
   "execution_count": 89,
   "id": "fdddbb23",
   "metadata": {},
   "outputs": [],
   "source": [
    "param_grid = {\n",
    "               'max_depth': range(3,12,2),\n",
    "               'min_samples_split': range(4,10,2),\n",
    "               'min_samples_leaf': range(3,10,2),\n",
    "              'criterion':['squared_error', 'absolute_error', 'poisson']}"
   ]
  },
  {
   "cell_type": "code",
   "execution_count": 90,
   "id": "6b38e1ec",
   "metadata": {},
   "outputs": [],
   "source": [
    "clf1=GridSearchCV(rf1,param_grid,cv=3,n_jobs=-1)"
   ]
  },
  {
   "cell_type": "code",
   "execution_count": 91,
   "id": "9f10cdb4",
   "metadata": {},
   "outputs": [
    {
     "data": {
      "text/plain": [
       "GridSearchCV(cv=3, estimator=RandomForestRegressor(), n_jobs=-1,\n",
       "             param_grid={'criterion': ['squared_error', 'absolute_error',\n",
       "                                       'poisson'],\n",
       "                         'max_depth': range(3, 12, 2),\n",
       "                         'min_samples_leaf': range(3, 10, 2),\n",
       "                         'min_samples_split': range(4, 10, 2)})"
      ]
     },
     "execution_count": 91,
     "metadata": {},
     "output_type": "execute_result"
    }
   ],
   "source": [
    "clf1.fit(X_train,Y_train)"
   ]
  },
  {
   "cell_type": "code",
   "execution_count": 92,
   "id": "89a70bb6",
   "metadata": {},
   "outputs": [
    {
     "data": {
      "text/plain": [
       "{'criterion': 'poisson',\n",
       " 'max_depth': 11,\n",
       " 'min_samples_leaf': 5,\n",
       " 'min_samples_split': 8}"
      ]
     },
     "execution_count": 92,
     "metadata": {},
     "output_type": "execute_result"
    }
   ],
   "source": [
    "clf1.best_params_"
   ]
  },
  {
   "cell_type": "code",
   "execution_count": 93,
   "id": "e6a51c7c",
   "metadata": {},
   "outputs": [],
   "source": [
    "Y_pred=clf1.predict(X_test)"
   ]
  },
  {
   "cell_type": "code",
   "execution_count": 94,
   "id": "ea8197fd",
   "metadata": {},
   "outputs": [
    {
     "data": {
      "text/plain": [
       "0.47029627379540373"
      ]
     },
     "execution_count": 94,
     "metadata": {},
     "output_type": "execute_result"
    }
   ],
   "source": [
    "clf1.score(X_train,Y_train)\n"
   ]
  },
  {
   "cell_type": "code",
   "execution_count": 95,
   "id": "5b2e9398",
   "metadata": {},
   "outputs": [
    {
     "data": {
      "text/plain": [
       "0.3474943554305423"
      ]
     },
     "execution_count": 95,
     "metadata": {},
     "output_type": "execute_result"
    }
   ],
   "source": [
    "clf1.score(X_test,Y_test)"
   ]
  },
  {
   "cell_type": "code",
   "execution_count": 96,
   "id": "9cbd0b66",
   "metadata": {},
   "outputs": [
    {
     "data": {
      "text/plain": [
       "array([0.26516331, 0.26201276, 0.20701202, 0.41334695, 0.27247262])"
      ]
     },
     "execution_count": 96,
     "metadata": {},
     "output_type": "execute_result"
    }
   ],
   "source": [
    "cross_scores = cross_val_score(clf1, X_train, Y_train, scoring='r2', cv=5)\n",
    "cross_scores "
   ]
  },
  {
   "cell_type": "code",
   "execution_count": 97,
   "id": "6a9ccd7b",
   "metadata": {},
   "outputs": [
    {
     "data": {
      "text/plain": [
       "0.3474943554305423"
      ]
     },
     "execution_count": 97,
     "metadata": {},
     "output_type": "execute_result"
    }
   ],
   "source": [
    "r2=r2_score(Y_test,Y_pred)\n",
    "r2"
   ]
  },
  {
   "cell_type": "code",
   "execution_count": 98,
   "id": "9b7ffa59",
   "metadata": {},
   "outputs": [
    {
     "data": {
      "text/plain": [
       "0.28400153372259157"
      ]
     },
     "execution_count": 98,
     "metadata": {},
     "output_type": "execute_result"
    }
   ],
   "source": [
    "cross_scores.mean()"
   ]
  },
  {
   "cell_type": "code",
   "execution_count": 99,
   "id": "1c3e55d3",
   "metadata": {},
   "outputs": [
    {
     "data": {
      "text/plain": [
       "19550.538813278497"
      ]
     },
     "execution_count": 99,
     "metadata": {},
     "output_type": "execute_result"
    }
   ],
   "source": [
    "mean_absolute_error(Y_test,Y_pred)"
   ]
  },
  {
   "cell_type": "code",
   "execution_count": 100,
   "id": "8c3ed006",
   "metadata": {},
   "outputs": [
    {
     "data": {
      "text/plain": [
       "617234434.2286363"
      ]
     },
     "execution_count": 100,
     "metadata": {},
     "output_type": "execute_result"
    }
   ],
   "source": [
    "mean_squared_error(Y_test,Y_pred)"
   ]
  },
  {
   "cell_type": "code",
   "execution_count": 101,
   "id": "b69a9fe2",
   "metadata": {},
   "outputs": [
    {
     "data": {
      "image/png": "[encoded data removed]",
      "text/plain": [
       "<Figure size 432x288 with 1 Axes>"
      ]
     },
     "metadata": {
      "needs_background": "light"
     },
     "output_type": "display_data"
    }
   ],
   "source": [
    "plt.scatter(Y_test,Y_pred)\n",
    "plt.xlabel('actual data')\n",
    "plt.ylabel('predicted data')\n",
    "plt.show()"
   ]
  },
  {
   "cell_type": "code",
   "execution_count": 102,
   "id": "f35671d4",
   "metadata": {},
   "outputs": [],
   "source": [
    "# R-squared:\t0.33986460509565897\n",
    "# mean_absolute_error= 19502.641348930145\n",
    "# mean_squared_error= 624451758.2019252"
   ]
  },
  {
   "cell_type": "markdown",
   "id": "7f71c203",
   "metadata": {},
   "source": [
    "# GRADIENT BOOSTING"
   ]
  },
  {
   "cell_type": "code",
   "execution_count": 103,
   "id": "67cbe87d",
   "metadata": {},
   "outputs": [],
   "source": [
    "X=df.drop(columns='salary')\n",
    "Y=df[['salary']]"
   ]
  },
  {
   "cell_type": "code",
   "execution_count": 104,
   "id": "a91ea317",
   "metadata": {},
   "outputs": [],
   "source": [
    "X_train,X_test,Y_train,Y_test=train_test_split(X,Y,test_size=0.25,random_state=21)"
   ]
  },
  {
   "cell_type": "code",
   "execution_count": 105,
   "id": "6256f33a",
   "metadata": {},
   "outputs": [],
   "source": [
    "gbdt=GradientBoostingRegressor()"
   ]
  },
  {
   "cell_type": "code",
   "execution_count": 106,
   "id": "cdab68ef",
   "metadata": {},
   "outputs": [
    {
     "data": {
      "text/plain": [
       "GradientBoostingRegressor()"
      ]
     },
     "execution_count": 106,
     "metadata": {},
     "output_type": "execute_result"
    }
   ],
   "source": [
    "gbdt.fit(X_train,Y_train)"
   ]
  },
  {
   "cell_type": "code",
   "execution_count": 107,
   "id": "cf8b3fd2",
   "metadata": {},
   "outputs": [],
   "source": [
    "Y_pred=gbdt.predict(X_test)"
   ]
  },
  {
   "cell_type": "code",
   "execution_count": 108,
   "id": "133e332b",
   "metadata": {},
   "outputs": [
    {
     "data": {
      "text/plain": [
       "0.7408821057636115"
      ]
     },
     "execution_count": 108,
     "metadata": {},
     "output_type": "execute_result"
    }
   ],
   "source": [
    "gbdt.score(X_train,Y_train)"
   ]
  },
  {
   "cell_type": "code",
   "execution_count": 109,
   "id": "4e45cad4",
   "metadata": {},
   "outputs": [
    {
     "data": {
      "text/plain": [
       "0.46503277812738"
      ]
     },
     "execution_count": 109,
     "metadata": {},
     "output_type": "execute_result"
    }
   ],
   "source": [
    "gbdt.score(X_test,Y_test)"
   ]
  },
  {
   "cell_type": "code",
   "execution_count": 110,
   "id": "b7c4d291",
   "metadata": {},
   "outputs": [
    {
     "data": {
      "text/plain": [
       "0.46503277812738"
      ]
     },
     "execution_count": 110,
     "metadata": {},
     "output_type": "execute_result"
    }
   ],
   "source": [
    "r2=r2_score(Y_test,Y_pred)\n",
    "r2"
   ]
  },
  {
   "cell_type": "code",
   "execution_count": 111,
   "id": "e304c91f",
   "metadata": {},
   "outputs": [
    {
     "data": {
      "text/plain": [
       "array([0.31423344, 0.38708387, 0.19902862, 0.35832636, 0.27981818])"
      ]
     },
     "execution_count": 111,
     "metadata": {},
     "output_type": "execute_result"
    }
   ],
   "source": [
    "cross_scores = cross_val_score(gbdt, X_train, Y_train, scoring='r2', cv=5)\n",
    "cross_scores "
   ]
  },
  {
   "cell_type": "code",
   "execution_count": 112,
   "id": "2272cae0",
   "metadata": {},
   "outputs": [
    {
     "data": {
      "text/plain": [
       "0.30769809401140485"
      ]
     },
     "execution_count": 112,
     "metadata": {},
     "output_type": "execute_result"
    }
   ],
   "source": [
    "cross_scores.mean()"
   ]
  },
  {
   "cell_type": "code",
   "execution_count": 113,
   "id": "36d76e61",
   "metadata": {},
   "outputs": [
    {
     "data": {
      "text/plain": [
       "16463.82821423259"
      ]
     },
     "execution_count": 113,
     "metadata": {},
     "output_type": "execute_result"
    }
   ],
   "source": [
    "mean_absolute_error(Y_test,Y_pred)"
   ]
  },
  {
   "cell_type": "code",
   "execution_count": 114,
   "id": "a249866e",
   "metadata": {},
   "outputs": [
    {
     "data": {
      "text/plain": [
       "506049554.16330177"
      ]
     },
     "execution_count": 114,
     "metadata": {},
     "output_type": "execute_result"
    }
   ],
   "source": [
    "mean_squared_error(Y_test,Y_pred)"
   ]
  },
  {
   "cell_type": "code",
   "execution_count": 115,
   "id": "68b44c19",
   "metadata": {},
   "outputs": [
    {
     "data": {
      "image/png": "[encoded data removed]",
      "text/plain": [
       "<Figure size 432x288 with 1 Axes>"
      ]
     },
     "metadata": {
      "needs_background": "light"
     },
     "output_type": "display_data"
    }
   ],
   "source": [
    "plt.scatter(Y_test,Y_pred)\n",
    "plt.xlabel('actual data')\n",
    "plt.ylabel('predicted data')\n",
    "plt.show()"
   ]
  },
  {
   "cell_type": "code",
   "execution_count": 116,
   "id": "39735bb3",
   "metadata": {},
   "outputs": [],
   "source": [
    "# R-squared:\t0.4650589801737611\n",
    "# mean_absolute_error= 16457.656535597296\n",
    "# mean_squared_error= 506024768.4692495"
   ]
  },
  {
   "cell_type": "markdown",
   "id": "d03bfca7",
   "metadata": {},
   "source": [
    "# GBDT WITH HYPER PARAMETER"
   ]
  },
  {
   "cell_type": "code",
   "execution_count": 117,
   "id": "7c24e258",
   "metadata": {},
   "outputs": [],
   "source": [
    "X_train,X_test,Y_train,Y_test=train_test_split(X,Y,test_size=0.25,random_state=21)"
   ]
  },
  {
   "cell_type": "code",
   "execution_count": 118,
   "id": "4a729d1c",
   "metadata": {},
   "outputs": [],
   "source": [
    "gbdt1=GradientBoostingRegressor()"
   ]
  },
  {
   "cell_type": "code",
   "execution_count": 119,
   "id": "fbee4f84",
   "metadata": {},
   "outputs": [],
   "source": [
    "param_grid = {\n",
    "               'max_depth': range(3,12,2),\n",
    "               'min_samples_split': range(4,10,2),\n",
    "               'min_samples_leaf': range(3,10,2),\n",
    "              'criterion':['friedman_mse', 'squared_error', 'mse', 'mae']}"
   ]
  },
  {
   "cell_type": "code",
   "execution_count": 120,
   "id": "c3b4ec7f",
   "metadata": {},
   "outputs": [],
   "source": [
    "clf1=GridSearchCV(gbdt1,param_grid,cv=3,n_jobs=-1)"
   ]
  },
  {
   "cell_type": "code",
   "execution_count": 121,
   "id": "53f40c4e",
   "metadata": {},
   "outputs": [
    {
     "data": {
      "text/plain": [
       "GridSearchCV(cv=3, estimator=GradientBoostingRegressor(), n_jobs=-1,\n",
       "             param_grid={'criterion': ['friedman_mse', 'squared_error', 'mse',\n",
       "                                       'mae'],\n",
       "                         'max_depth': range(3, 12, 2),\n",
       "                         'min_samples_leaf': range(3, 10, 2),\n",
       "                         'min_samples_split': range(4, 10, 2)})"
      ]
     },
     "execution_count": 121,
     "metadata": {},
     "output_type": "execute_result"
    }
   ],
   "source": [
    "clf1.fit(X_train,Y_train)"
   ]
  },
  {
   "cell_type": "code",
   "execution_count": 122,
   "id": "2b490ea0",
   "metadata": {},
   "outputs": [
    {
     "data": {
      "text/plain": [
       "{'criterion': 'mse',\n",
       " 'max_depth': 3,\n",
       " 'min_samples_leaf': 7,\n",
       " 'min_samples_split': 4}"
      ]
     },
     "execution_count": 122,
     "metadata": {},
     "output_type": "execute_result"
    }
   ],
   "source": [
    "clf1.best_params_"
   ]
  },
  {
   "cell_type": "code",
   "execution_count": 123,
   "id": "f6719f12",
   "metadata": {},
   "outputs": [],
   "source": [
    "Y_pred=clf1.predict(X_test)"
   ]
  },
  {
   "cell_type": "code",
   "execution_count": 124,
   "id": "0d45b397",
   "metadata": {},
   "outputs": [
    {
     "data": {
      "text/plain": [
       "0.6338420614382798"
      ]
     },
     "execution_count": 124,
     "metadata": {},
     "output_type": "execute_result"
    }
   ],
   "source": [
    "clf1.score(X_train,Y_train)\n"
   ]
  },
  {
   "cell_type": "code",
   "execution_count": 125,
   "id": "9f20ab6a",
   "metadata": {},
   "outputs": [
    {
     "data": {
      "text/plain": [
       "0.4688416623342565"
      ]
     },
     "execution_count": 125,
     "metadata": {},
     "output_type": "execute_result"
    }
   ],
   "source": [
    "clf1.score(X_test,Y_test)"
   ]
  },
  {
   "cell_type": "code",
   "execution_count": 126,
   "id": "60fce199",
   "metadata": {},
   "outputs": [
    {
     "data": {
      "text/plain": [
       "0.4688416623342565"
      ]
     },
     "execution_count": 126,
     "metadata": {},
     "output_type": "execute_result"
    }
   ],
   "source": [
    "r2=r2_score(Y_test,Y_pred)\n",
    "r2"
   ]
  },
  {
   "cell_type": "code",
   "execution_count": 127,
   "id": "2566721f",
   "metadata": {},
   "outputs": [
    {
     "data": {
      "text/plain": [
       "array([0.30635629, 0.43748895, 0.31712055, 0.52863465, 0.2726533 ])"
      ]
     },
     "execution_count": 127,
     "metadata": {},
     "output_type": "execute_result"
    }
   ],
   "source": [
    "cross_scores = cross_val_score(clf1, X_train, Y_train, scoring='r2', cv=5)\n",
    "cross_scores "
   ]
  },
  {
   "cell_type": "code",
   "execution_count": 128,
   "id": "604f32e3",
   "metadata": {},
   "outputs": [
    {
     "data": {
      "text/plain": [
       "0.37245075051680887"
      ]
     },
     "execution_count": 128,
     "metadata": {},
     "output_type": "execute_result"
    }
   ],
   "source": [
    "cross_scores.mean()"
   ]
  },
  {
   "cell_type": "code",
   "execution_count": 129,
   "id": "3c55659a",
   "metadata": {},
   "outputs": [
    {
     "data": {
      "text/plain": [
       "16531.97245132047"
      ]
     },
     "execution_count": 129,
     "metadata": {},
     "output_type": "execute_result"
    }
   ],
   "source": [
    "mean_absolute_error(Y_test,Y_pred)"
   ]
  },
  {
   "cell_type": "code",
   "execution_count": 130,
   "id": "0cb6316f",
   "metadata": {},
   "outputs": [
    {
     "data": {
      "text/plain": [
       "502446559.2956864"
      ]
     },
     "execution_count": 130,
     "metadata": {},
     "output_type": "execute_result"
    }
   ],
   "source": [
    "mean_squared_error(Y_test,Y_pred)"
   ]
  },
  {
   "cell_type": "code",
   "execution_count": 131,
   "id": "581b890c",
   "metadata": {},
   "outputs": [
    {
     "data": {
      "image/png": "[encoded data removed]",
      "text/plain": [
       "<Figure size 432x288 with 1 Axes>"
      ]
     },
     "metadata": {
      "needs_background": "light"
     },
     "output_type": "display_data"
    }
   ],
   "source": [
    "plt.scatter(Y_test,Y_pred)\n",
    "plt.xlabel('actual data')\n",
    "plt.ylabel('predicted data')\n",
    "plt.show()"
   ]
  },
  {
   "cell_type": "code",
   "execution_count": 132,
   "id": "8c68263e",
   "metadata": {},
   "outputs": [],
   "source": [
    "# R-squared:\t0.4691886469093759\n",
    "# mean_absolute_error= 16528.293531033883\n",
    "# mean_squared_error= 502118330.98120004"
   ]
  },
  {
   "cell_type": "markdown",
   "id": "50ce2d40",
   "metadata": {},
   "source": [
    "# DECISION TREE MODEL"
   ]
  },
  {
   "cell_type": "code",
   "execution_count": 133,
   "id": "21725f92",
   "metadata": {},
   "outputs": [],
   "source": [
    "X=df.drop(columns='salary')\n",
    "Y=df[['salary']]"
   ]
  },
  {
   "cell_type": "code",
   "execution_count": 134,
   "id": "85abb312",
   "metadata": {},
   "outputs": [
    {
     "data": {
      "text/plain": [
       "DecisionTreeRegressor()"
      ]
     },
     "execution_count": 134,
     "metadata": {},
     "output_type": "execute_result"
    }
   ],
   "source": [
    "X_train,X_test,Y_train,Y_test=train_test_split(X,Y,test_size=0.25,random_state=21)\n",
    "dt=DecisionTreeRegressor()\n",
    "dt.fit(X_train,Y_train)"
   ]
  },
  {
   "cell_type": "code",
   "execution_count": 135,
   "id": "50ab57d6",
   "metadata": {},
   "outputs": [],
   "source": [
    "Y_pred=dt.predict(X_test)"
   ]
  },
  {
   "cell_type": "code",
   "execution_count": 136,
   "id": "eec25925",
   "metadata": {},
   "outputs": [
    {
     "data": {
      "text/plain": [
       "0.9134629505526406"
      ]
     },
     "execution_count": 136,
     "metadata": {},
     "output_type": "execute_result"
    }
   ],
   "source": [
    "dt.score(X_train,Y_train)"
   ]
  },
  {
   "cell_type": "code",
   "execution_count": 137,
   "id": "afae87b9",
   "metadata": {},
   "outputs": [
    {
     "data": {
      "text/plain": [
       "0.188826684422708"
      ]
     },
     "execution_count": 137,
     "metadata": {},
     "output_type": "execute_result"
    }
   ],
   "source": [
    "dt.score(X_test,Y_test)"
   ]
  },
  {
   "cell_type": "code",
   "execution_count": 138,
   "id": "628fe5f6",
   "metadata": {},
   "outputs": [
    {
     "data": {
      "text/plain": [
       "0.188826684422708"
      ]
     },
     "execution_count": 138,
     "metadata": {},
     "output_type": "execute_result"
    }
   ],
   "source": [
    "r2=r2_score(Y_test,Y_pred)\n",
    "r2"
   ]
  },
  {
   "cell_type": "code",
   "execution_count": 139,
   "id": "0ee48eb4",
   "metadata": {},
   "outputs": [
    {
     "data": {
      "text/plain": [
       "array([ 0.31492607,  0.16765022, -0.00645176, -0.19801351, -0.18492941])"
      ]
     },
     "execution_count": 139,
     "metadata": {},
     "output_type": "execute_result"
    }
   ],
   "source": [
    "cross_scores = cross_val_score(dt, X_train, Y_train, scoring='r2', cv=5)\n",
    "cross_scores "
   ]
  },
  {
   "cell_type": "code",
   "execution_count": 140,
   "id": "d6b4e5a8",
   "metadata": {},
   "outputs": [
    {
     "data": {
      "text/plain": [
       "0.01863632071509034"
      ]
     },
     "execution_count": 140,
     "metadata": {},
     "output_type": "execute_result"
    }
   ],
   "source": [
    "cross_scores.mean()"
   ]
  },
  {
   "cell_type": "code",
   "execution_count": 141,
   "id": "8ac33f18",
   "metadata": {},
   "outputs": [
    {
     "data": {
      "text/plain": [
       "19820.135833333334"
      ]
     },
     "execution_count": 141,
     "metadata": {},
     "output_type": "execute_result"
    }
   ],
   "source": [
    "mean_absolute_error(Y_test,Y_pred)"
   ]
  },
  {
   "cell_type": "code",
   "execution_count": 142,
   "id": "4c3fcc2e",
   "metadata": {},
   "outputs": [
    {
     "data": {
      "text/plain": [
       "767325319.9703473"
      ]
     },
     "execution_count": 142,
     "metadata": {},
     "output_type": "execute_result"
    }
   ],
   "source": [
    "mean_squared_error(Y_test,Y_pred)"
   ]
  },
  {
   "cell_type": "code",
   "execution_count": 143,
   "id": "5b0c7dd9",
   "metadata": {},
   "outputs": [
    {
     "data": {
      "image/png": "[encoded data removed]",
      "text/plain": [
       "<Figure size 432x288 with 1 Axes>"
      ]
     },
     "metadata": {
      "needs_background": "light"
     },
     "output_type": "display_data"
    }
   ],
   "source": [
    "plt.scatter(Y_test,Y_pred)\n",
    "plt.xlabel('actual data')\n",
    "plt.ylabel('predicted data')\n",
    "plt.show()"
   ]
  },
  {
   "cell_type": "code",
   "execution_count": 144,
   "id": "85226502",
   "metadata": {},
   "outputs": [],
   "source": [
    "# R-squared:\t0.23805299497681498\n",
    "# mean_absolute_error= 19057.715833333335\n",
    "# mean_squared_error=720759938.9703473"
   ]
  },
  {
   "cell_type": "markdown",
   "id": "34383249",
   "metadata": {},
   "source": [
    "# DECISION TREE WITH HYPER PARAMETER TUNING"
   ]
  },
  {
   "cell_type": "code",
   "execution_count": 145,
   "id": "0afcecad",
   "metadata": {},
   "outputs": [],
   "source": [
    "X_train,X_test,Y_train,Y_test=train_test_split(X,Y,test_size=0.25,random_state=21)"
   ]
  },
  {
   "cell_type": "code",
   "execution_count": 146,
   "id": "ccfb3b5d",
   "metadata": {},
   "outputs": [],
   "source": [
    "dt1=DecisionTreeRegressor()"
   ]
  },
  {
   "cell_type": "code",
   "execution_count": 147,
   "id": "d4a18154",
   "metadata": {},
   "outputs": [],
   "source": [
    "param_grid = {\n",
    "               'max_depth': range(3,12,2),\n",
    "               'min_samples_split': range(4,10,2),\n",
    "               'min_samples_leaf': range(3,10,2),\n",
    "              'criterion':[\"mse\", \"friedman_mse\", \"mae\", \"poisson\"]}"
   ]
  },
  {
   "cell_type": "code",
   "execution_count": 148,
   "id": "c6c23ecc",
   "metadata": {},
   "outputs": [],
   "source": [
    "clf1=GridSearchCV(dt1,param_grid,cv=3,n_jobs=-1)"
   ]
  },
  {
   "cell_type": "code",
   "execution_count": 149,
   "id": "1f91ebe1",
   "metadata": {},
   "outputs": [
    {
     "data": {
      "text/plain": [
       "GridSearchCV(cv=3, estimator=DecisionTreeRegressor(), n_jobs=-1,\n",
       "             param_grid={'criterion': ['mse', 'friedman_mse', 'mae', 'poisson'],\n",
       "                         'max_depth': range(3, 12, 2),\n",
       "                         'min_samples_leaf': range(3, 10, 2),\n",
       "                         'min_samples_split': range(4, 10, 2)})"
      ]
     },
     "execution_count": 149,
     "metadata": {},
     "output_type": "execute_result"
    }
   ],
   "source": [
    "clf1.fit(X_train,Y_train)"
   ]
  },
  {
   "cell_type": "code",
   "execution_count": 150,
   "id": "d1f295bc",
   "metadata": {},
   "outputs": [
    {
     "data": {
      "text/plain": [
       "{'criterion': 'mse',\n",
       " 'max_depth': 3,\n",
       " 'min_samples_leaf': 9,\n",
       " 'min_samples_split': 4}"
      ]
     },
     "execution_count": 150,
     "metadata": {},
     "output_type": "execute_result"
    }
   ],
   "source": [
    "clf1.best_params_"
   ]
  },
  {
   "cell_type": "code",
   "execution_count": 151,
   "id": "807a92bb",
   "metadata": {},
   "outputs": [],
   "source": [
    "Y_pred=clf1.predict(X_test)"
   ]
  },
  {
   "cell_type": "code",
   "execution_count": 152,
   "id": "087c3eca",
   "metadata": {},
   "outputs": [
    {
     "data": {
      "text/plain": [
       "0.47318351557621663"
      ]
     },
     "execution_count": 152,
     "metadata": {},
     "output_type": "execute_result"
    }
   ],
   "source": [
    "clf1.score(X_train,Y_train)\n"
   ]
  },
  {
   "cell_type": "code",
   "execution_count": 153,
   "id": "e6492d18",
   "metadata": {},
   "outputs": [
    {
     "data": {
      "text/plain": [
       "0.45152959210617194"
      ]
     },
     "execution_count": 153,
     "metadata": {},
     "output_type": "execute_result"
    }
   ],
   "source": [
    "clf1.score(X_test,Y_test)"
   ]
  },
  {
   "cell_type": "code",
   "execution_count": 154,
   "id": "fc0e137e",
   "metadata": {},
   "outputs": [
    {
     "data": {
      "text/plain": [
       "0.45152959210617194"
      ]
     },
     "execution_count": 154,
     "metadata": {},
     "output_type": "execute_result"
    }
   ],
   "source": [
    "r2=r2_score(Y_test,Y_pred)\n",
    "r2"
   ]
  },
  {
   "cell_type": "code",
   "execution_count": 155,
   "id": "6678ac05",
   "metadata": {},
   "outputs": [
    {
     "data": {
      "text/plain": [
       "array([0.44107867, 0.3712428 , 0.18155888, 0.41968591, 0.16267148])"
      ]
     },
     "execution_count": 155,
     "metadata": {},
     "output_type": "execute_result"
    }
   ],
   "source": [
    "cross_scores = cross_val_score(clf1, X_train, Y_train, scoring='r2', cv=5)\n",
    "cross_scores "
   ]
  },
  {
   "cell_type": "code",
   "execution_count": 156,
   "id": "da32da44",
   "metadata": {},
   "outputs": [
    {
     "data": {
      "text/plain": [
       "0.3152475469857313"
      ]
     },
     "execution_count": 156,
     "metadata": {},
     "output_type": "execute_result"
    }
   ],
   "source": [
    "cross_scores.mean()"
   ]
  },
  {
   "cell_type": "code",
   "execution_count": 157,
   "id": "2fbf0042",
   "metadata": {},
   "outputs": [
    {
     "data": {
      "text/plain": [
       "17001.510997119156"
      ]
     },
     "execution_count": 157,
     "metadata": {},
     "output_type": "execute_result"
    }
   ],
   "source": [
    "mean_absolute_error(Y_test,Y_pred)"
   ]
  },
  {
   "cell_type": "code",
   "execution_count": 158,
   "id": "2f25e6bf",
   "metadata": {},
   "outputs": [
    {
     "data": {
      "text/plain": [
       "518822825.09735453"
      ]
     },
     "execution_count": 158,
     "metadata": {},
     "output_type": "execute_result"
    }
   ],
   "source": [
    "mean_squared_error(Y_test,Y_pred)"
   ]
  },
  {
   "cell_type": "code",
   "execution_count": 159,
   "id": "f2d20f19",
   "metadata": {},
   "outputs": [
    {
     "data": {
      "image/png": "[encoded data removed]",
      "text/plain": [
       "<Figure size 432x288 with 1 Axes>"
      ]
     },
     "metadata": {
      "needs_background": "light"
     },
     "output_type": "display_data"
    }
   ],
   "source": [
    "plt.scatter(Y_test,Y_pred)\n",
    "plt.xlabel('actual data')\n",
    "plt.ylabel('predicted data')\n",
    "plt.show()"
   ]
  },
  {
   "cell_type": "code",
   "execution_count": 160,
   "id": "ec53d204",
   "metadata": {},
   "outputs": [],
   "source": [
    "# R-squared:\t 0.45152959210617194\n",
    "# mean_absolute_error= 17001.510997119156\n",
    "# mean_squared_error= 518822825.09735453"
   ]
  },
  {
   "cell_type": "markdown",
   "id": "889379cd",
   "metadata": {},
   "source": [
    "# CONCLUSION"
   ]
  },
  {
   "cell_type": "code",
   "execution_count": 161,
   "id": "f6c5a590",
   "metadata": {},
   "outputs": [],
   "source": [
    "# 1. 4 models were fitted on the dataset mainly Linear regression,Random Forest, Decision tree & GBDT without and with Hypertparameter Tuning\n",
    "# 2. Among the models the optimized Result was achieved using Random Forest without hyperparameter tuning\n",
    "# 3. Result:\n",
    "    # Model: Random Forest without hyperparameter tuning\n",
    "    # R-squared:\t0.4704012728661511\n",
    "    # mean_absolute_error= 16430.347389646464\n",
    "    # mean_squared_error= 500971253.5534562\n",
    "#  The predictors in this case give 47% of the variance, which is justified because there are still other factors that\n",
    "#  can contribute to determine the salary. \n",
    "\n",
    "    "
   ]
  },
  {
   "cell_type": "code",
   "execution_count": 162,
   "id": "e1b033a9",
   "metadata": {},
   "outputs": [],
   "source": [
    "md=[lm,rf,dt,gbdt] # Saving\n",
    "import pickle\n",
    "filename=\"Salary.pkl\"\n",
    "pickle.dump(md,open(filename,\"wb\"))"
   ]
  },
  {
   "cell_type": "code",
   "execution_count": null,
   "id": "7d7cf143",
   "metadata": {},
   "outputs": [],
   "source": []
  }
 ],
 "metadata": {
  "kernelspec": {
   "display_name": "Python 3 (ipykernel)",
   "language": "python",
   "name": "python3"
  },
  "language_info": {
   "codemirror_mode": {
    "name": "ipython",
    "version": 3
   },
   "file_extension": ".py",
   "mimetype": "text/x-python",
   "name": "python",
   "nbconvert_exporter": "python",
   "pygments_lexer": "ipython3",
   "version": "3.9.7"
  }
 },
 "nbformat": 4,
 "nbformat_minor": 5
}
